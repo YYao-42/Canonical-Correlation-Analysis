{
 "cells": [
  {
   "cell_type": "code",
   "execution_count": null,
   "metadata": {},
   "outputs": [],
   "source": [
    "import mne\n",
    "import scipy\n",
    "import numpy as np\n",
    "import matplotlib.pyplot as plt\n",
    "import utils\n",
    "import os\n",
    "import glob\n",
    "from numpy import linalg as LA\n",
    "from scipy.stats import zscore, pearsonr\n",
    "from scipy.io import savemat, loadmat\n",
    "from scipy import signal\n",
    "%matplotlib widget"
   ]
  },
  {
   "cell_type": "markdown",
   "metadata": {},
   "source": [
    "## Data loading"
   ]
  },
  {
   "cell_type": "code",
   "execution_count": null,
   "metadata": {},
   "outputs": [],
   "source": [
    "%%capture\n",
    "subjects = ['AS', 'YY']\n",
    "folder = 'EOG'\n",
    "videos = ['Dr', 'Parra', 'Safety', 'Spring']\n",
    "# videos = ['Parra', 'Dr']\n",
    "# videos = ['Safety']\n",
    "feature_type = ['muFlow'] # muSqTemporalContrast\n",
    "features_list = []\n",
    "handcrafted_list = []\n",
    "eeg_multisub_list = []\n",
    "for video in videos:\n",
    "    features, eeg_multisub, fs, _ = utils.multisub_data_org(subjects, video, folder, feature_type=feature_type, bads=['B25'], eog=True, regression=True, normalize=True)\n",
    "    # features_list.append(features) # Or do a normalization here using zscore\n",
    "    # eeg_multisub_list.append(eeg_multisub)\n",
    "    \n",
    "    handcrafted = np.zeros_like(features)\n",
    "    peaks = np.array([])\n",
    "    for i in range(features.shape[1]):\n",
    "        feature_normalized = features[:,i]/LA.norm(features[:,i])\n",
    "        peak, _ = signal.find_peaks(np.squeeze(feature_normalized), prominence=(0.05, None), width=(None, 1.5))\n",
    "        peaks = np.union1d(peaks, peak)\n",
    "    peaks = peaks.astype(int)\n",
    "    # features[peaks, 0] = max(features)\n",
    "    handcrafted[peaks, 0] = 1\n",
    "    # features = np.delete(features, peaks, axis=0)\n",
    "    # eeg_multisub = np.delete(eeg_multisub, peaks, axis=0)\n",
    "    features_list.append(features) # Or do a normalization here using zscore\n",
    "    handcrafted_list.append(handcrafted)\n",
    "    eeg_multisub_list.append(eeg_multisub)\n",
    "feature_concat = np.concatenate(tuple(features_list), axis=0)\n",
    "feature_concat = feature_concat/LA.norm(feature_concat)\n",
    "handcrafted_concat = np.concatenate(tuple(handcrafted_list), axis=0)\n",
    "eeg_multisub_concat = np.concatenate(tuple(eeg_multisub_list), axis=0)\n",
    "T = feature_concat.shape[0]\n",
    "times = np.array(range(T))/fs"
   ]
  },
  {
   "cell_type": "code",
   "execution_count": null,
   "metadata": {},
   "outputs": [],
   "source": [
    "len(feature_concat)"
   ]
  },
  {
   "cell_type": "code",
   "execution_count": null,
   "metadata": {},
   "outputs": [],
   "source": [
    "len(handcrafted_concat)"
   ]
  },
  {
   "cell_type": "code",
   "execution_count": null,
   "metadata": {},
   "outputs": [],
   "source": [
    "# peaks, _ = signal.find_peaks(np.squeeze(feature_concat), prominence=(0.05, None), width=(None, 1.5))\n",
    "plt.close()\n",
    "plt.plot(handcrafted_concat)\n",
    "# plt.plot(peaks, feature_concat[peaks], \"x\")\n",
    "plt.show()"
   ]
  },
  {
   "cell_type": "code",
   "execution_count": null,
   "metadata": {},
   "outputs": [],
   "source": [
    "peaks/30"
   ]
  },
  {
   "cell_type": "markdown",
   "metadata": {},
   "source": [
    "## CCA"
   ]
  },
  {
   "cell_type": "code",
   "execution_count": null,
   "metadata": {},
   "outputs": [],
   "source": [
    "L_timefilter = int(fs)\n",
    "n_components = 5\n",
    "fold = 10\n",
    "eeg_onesub = eeg_multisub_concat[:,:,0]\n",
    "corr_train, corr_test, V_A_train, V_B_train = utils.cross_val_CCA(eeg_onesub, feature_concat, fs, L_EEG=1, L_feat=fs, causalx=False, causaly=True, fold=10, n_components=5, regularization='lwcov', K_regu=None, message=True, signifi_level=True)\n"
   ]
  },
  {
   "cell_type": "code",
   "execution_count": null,
   "metadata": {},
   "outputs": [],
   "source": [
    "# Visualization:\n",
    "forward_model = utils.forward_model(eeg_multisub_concat[:,:,0], V_A_train, regularization='lwcov')\n",
    "biosemi_layout = mne.channels.read_layout('biosemi')\n",
    "create_info = mne.create_info(biosemi_layout.names, ch_types='eeg', sfreq=30)\n",
    "create_info.set_montage('biosemi64')\n",
    "plt.close()\n",
    "plt.figure()\n",
    "# plt.figure(figsize=(20, 20))\n",
    "for i in range(5):\n",
    "    ax = plt.subplot(2, 3, i + 1)\n",
    "    mne.viz.plot_topomap(forward_model[:,i], create_info, ch_type='eeg', axes=ax)\n",
    "    ax.set_title('CC '+str(i+1))\n",
    "plt.show()"
   ]
  },
  {
   "cell_type": "code",
   "execution_count": null,
   "metadata": {},
   "outputs": [],
   "source": [
    "# Note: GCCA-one subject + stimulus = CCA\n",
    "datalist = [eeg_multisub_concat[:,:,0], feature_concat]\n",
    "Llist = [1, fs]\n",
    "causal_list = [False, True]\n",
    "n_components = 5\n",
    "rhos= [1, 1]\n",
    "corr_train, corr_test, Wlist_train, Flist_train = utils.cross_val_GCCA_multi_mod(datalist, Llist, causal_list, rhos, fs, fold=10, n_components=5, regularization='lwcov', message=True, signifi_level=True, ISC=True)"
   ]
  },
  {
   "cell_type": "code",
   "execution_count": null,
   "metadata": {},
   "outputs": [],
   "source": [
    "# GCCA-all subjects\n",
    "datalist = [eeg_multisub_concat]\n",
    "Llist = [1]\n",
    "causal_list = [False]\n",
    "n_components = 5\n",
    "rhos = [1]\n",
    "corr_train, corr_test, Wlist_train, Flist_train = utils.cross_val_GCCA_multi_mod(datalist, Llist, causal_list, rhos, fs, fold=10, n_components=5, regularization='lwcov', message=True, signifi_level=True, ISC=True)"
   ]
  },
  {
   "cell_type": "code",
   "execution_count": null,
   "metadata": {},
   "outputs": [],
   "source": [
    "# GCCA-all subjects + stimulus\n",
    "datalist = [eeg_multisub_concat, feature_concat]\n",
    "Llist = [1, fs]\n",
    "causal_list = [False, True]\n",
    "n_components = 5\n",
    "rhos = utils.rho_sweep(datalist, np.linspace(-2,3,11), Llist, causal_list, fs, fold=10, n_components=5, message=True)\n",
    "corr_train, corr_test, Wlist_train, Flist_train = utils.cross_val_GCCA_multi_mod(datalist, Llist, causal_list, rhos, fs, fold=10, n_components=5, regularization='lwcov', message=True, signifi_level=True, ISC=True)"
   ]
  },
  {
   "cell_type": "code",
   "execution_count": null,
   "metadata": {},
   "outputs": [],
   "source": [
    "# Forward_model: calculated using the shared subspace of all subjects/views\n",
    "# forward_model = Flist_train[0][:,0,:] # subject 1\n",
    "# Average forward model of different subjects\n",
    "nb_sub = Flist_train[0].shape[1]\n",
    "forward_model = np.zeros_like(Flist_train[0][:,0,:])\n",
    "for n in range(nb_sub):\n",
    "    forward_model = forward_model + Flist_train[0][:,n,:]\n",
    "forward_model = forward_model/nb_sub\n",
    "biosemi_layout = mne.channels.read_layout('biosemi')\n",
    "create_info = mne.create_info(biosemi_layout.names, ch_types='eeg', sfreq=30)\n",
    "create_info.set_montage('biosemi64')\n",
    "plt.close()\n",
    "plt.figure()\n",
    "# plt.figure(figsize=(20, 20))\n",
    "for i in range(5):\n",
    "    ax = plt.subplot(2, 3, i + 1)\n",
    "    mne.viz.plot_topomap(forward_model[:,i], create_info, ch_type='eeg', axes=ax)\n",
    "    ax.set_title('CC '+str(i+1))\n",
    "plt.show()"
   ]
  },
  {
   "cell_type": "code",
   "execution_count": null,
   "metadata": {},
   "outputs": [],
   "source": [
    "# Forward_model: calculated using projected subspaces of each subject\n",
    "forward_model = utils.forward_model(eeg_multisub_concat[:,:,0], Wlist_train[0][:,0,:], regularization=None) # subject 1\n",
    "# forward_model = utils.forward_model(eeg_multisub_concat[:,:,1], Wlist_train[0][:,1,:], regularization=None) # subject 2\n",
    "biosemi_layout = mne.channels.read_layout('biosemi')\n",
    "create_info = mne.create_info(biosemi_layout.names, ch_types='eeg', sfreq=30)\n",
    "create_info.set_montage('biosemi64')\n",
    "plt.close()\n",
    "plt.figure()\n",
    "# plt.figure(figsize=(20, 20))\n",
    "for i in range(5):\n",
    "    ax = plt.subplot(2, 3, i + 1)\n",
    "    mne.viz.plot_topomap(forward_model[:,i], create_info, ch_type='eeg', axes=ax)\n",
    "    ax.set_title('CC '+str(i+1))\n",
    "plt.show()"
   ]
  },
  {
   "cell_type": "code",
   "execution_count": null,
   "metadata": {},
   "outputs": [],
   "source": []
  },
  {
   "cell_type": "markdown",
   "metadata": {},
   "source": [
    "## Find appropriate amount of time"
   ]
  },
  {
   "cell_type": "markdown",
   "metadata": {},
   "source": [
    "Old version. Do not run."
   ]
  },
  {
   "cell_type": "code",
   "execution_count": null,
   "metadata": {},
   "outputs": [],
   "source": [
    "L_timefilter = int(fs)\n",
    "n_components = 5\n",
    "fold = 10\n",
    "t_list = range(1, 30)\n",
    "corr_test_t = np.empty((0, n_components))\n",
    "for t in t_list:\n",
    "    eeg = eeg_multisub_concat[:t*fs*60, :, 0]\n",
    "    feature = feature_concat[:t*fs*60, :]\n",
    "    corr_train, corr_test, V_A_train, V_B_train = utils.cross_val_CCA(eeg, feature, fs, L_EEG=1, L_feat=fs, causalx=False, causaly=True, fold=10, n_components=5, regularization='lwcov', K_regu=None, message=True, signifi_level=True)\n",
    "    corr_test_t = np.append(corr_test_t, np.mean(corr_test, axis=0, keepdims=True), axis=0)\n"
   ]
  },
  {
   "cell_type": "code",
   "execution_count": null,
   "metadata": {},
   "outputs": [],
   "source": [
    "plt.close()\n",
    "plt.plot(t_list, corr_test_t[:,0], label='1st component')\n",
    "plt.plot(t_list, corr_test_t[:,1], label='2nd component')\n",
    "plt.axhline(y=0.0431, linestyle='-.', color='c', label='significance level')\n",
    "plt.legend(loc='best')\n",
    "plt.xlabel('data length (min)')\n",
    "plt.title('Average correlation coefficient on the test sets (CCA)')\n",
    "plt.show()"
   ]
  },
  {
   "cell_type": "code",
   "execution_count": null,
   "metadata": {},
   "outputs": [],
   "source": [
    "L_timefilter = int(fs)\n",
    "n_components = 5\n",
    "fold = 10\n",
    "sweep_list = np.linspace(-1,3,9) # 10^{-2}, 10^{-2.5}, ..., 10^{3}\n",
    "t_list = range(1, 30)\n",
    "corr_test_t = np.empty((0, n_components))\n",
    "for t in t_list:\n",
    "    eeg = eeg_multisub_concat[:t*fs*60, :, :]\n",
    "    feature = feature_concat[:t*fs*60, :]\n",
    "    rhos = utils.rho_sweep([eeg, feature], sweep_list, L_timefilter, fold, n_components)\n",
    "    corr_train, corr_test, Wlist = utils.cross_val_GCCA_multi_mod([eeg, feature], L_timefilter, rhos, fold, n_components, regularizaion='lwcov', message=False)\n",
    "    print('ISC of the top {} components on the test sets when rhos={}: {}'.format(n_components, rhos, np.average(corr_test, axis=0)))\n",
    "    corr_test_t = np.append(corr_test_t, np.mean(corr_test, axis=0, keepdims=True), axis=0)"
   ]
  },
  {
   "cell_type": "code",
   "execution_count": null,
   "metadata": {},
   "outputs": [],
   "source": [
    "plt.close()\n",
    "plt.plot(t_list, corr_test_t[:,0], label='1st component')\n",
    "plt.plot(t_list, corr_test_t[:,1], label='2nd component')\n",
    "plt.plot(t_list, corr_test_t[:,2], label='3rd component')\n",
    "plt.axhline(y=0.0191, linestyle='-.', color='c', label='significance level')\n",
    "plt.legend(loc='best')\n",
    "plt.xlabel('data length (min)')\n",
    "plt.title('Average correlation coefficient on the test sets (GCCA)')\n",
    "plt.show()"
   ]
  }
 ],
 "metadata": {
  "kernelspec": {
   "display_name": "Python 3.10.6 ('signal')",
   "language": "python",
   "name": "python3"
  },
  "language_info": {
   "codemirror_mode": {
    "name": "ipython",
    "version": 3
   },
   "file_extension": ".py",
   "mimetype": "text/x-python",
   "name": "python",
   "nbconvert_exporter": "python",
   "pygments_lexer": "ipython3",
   "version": "3.10.6 | packaged by conda-forge | (main, Aug 22 2022, 20:30:19) [MSC v.1929 64 bit (AMD64)]"
  },
  "orig_nbformat": 4,
  "vscode": {
   "interpreter": {
    "hash": "e4780ce94013b4ad826834d504b051d615119766f3ac7f8bac99efc1ee879921"
   }
  }
 },
 "nbformat": 4,
 "nbformat_minor": 2
}
