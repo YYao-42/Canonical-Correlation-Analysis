{
 "cells": [
  {
   "cell_type": "code",
   "execution_count": 22,
   "metadata": {},
   "outputs": [],
   "source": [
    "import scipy.io\n",
    "import numpy as np\n",
    "import matplotlib.pyplot as plt\n",
    "import os\n",
    "from utils import GCCA, shuffle_block, data_superbowl, corr_component, avg_corr_coe\n",
    "from sklearn.covariance import LedoitWolf\n",
    "from numpy import linalg as LA\n",
    "from scipy import signal\n",
    "from tqdm import tqdm"
   ]
  },
  {
   "cell_type": "code",
   "execution_count": 23,
   "metadata": {},
   "outputs": [],
   "source": [
    "data = scipy.io.loadmat('../Correlated Component Analysis/data/Prepro_EEG.mat')\n",
    "X_prepro = data['X']\n",
    "fs = 256\n",
    "T, D, N = X_prepro.shape"
   ]
  },
  {
   "cell_type": "code",
   "execution_count": 24,
   "metadata": {},
   "outputs": [],
   "source": [
    "# head = '../Correlated Component Analysis/data'\n",
    "# datatype = 'preprocessed'\n",
    "# year = '2013'\n",
    "# view = 'Y2'\n",
    "# X_prepro, fs = data_superbowl(head=head, datatype=datatype, year=year, view=view)\n",
    "# T, D, N = X_prepro.shape"
   ]
  },
  {
   "cell_type": "code",
   "execution_count": 25,
   "metadata": {},
   "outputs": [
    {
     "data": {
      "text/plain": [
       "array([0.12260455, 0.11334059, 0.11054806, 0.11039175, 0.10463954,\n",
       "       0.10302433, 0.10027871, 0.09845975, 0.09867814, 0.09705087,\n",
       "       0.09515674, 0.09389954, 0.09351976, 0.09300543, 0.09211686,\n",
       "       0.09199498, 0.09149703, 0.09144276, 0.08991871, 0.08802897,\n",
       "       0.08804947, 0.08558954, 0.08495739, 0.08483975, 0.08429723,\n",
       "       0.08244482, 0.08146933, 0.08197158, 0.0815693 , 0.08012368,\n",
       "       0.07919969, 0.0790859 , 0.07892935, 0.0782644 , 0.07710249,\n",
       "       0.07692731, 0.07580415, 0.07587114, 0.07454033, 0.0736801 ,\n",
       "       0.07320397, 0.07216984, 0.07221503, 0.07144573, 0.07123717,\n",
       "       0.07078465, 0.06987352, 0.07016995, 0.06834826, 0.06818223,\n",
       "       0.06756195, 0.06742494, 0.06717322, 0.06594255, 0.06564443,\n",
       "       0.06489244, 0.06489023, 0.06407649, 0.06378828, 0.06323114,\n",
       "       0.06273594, 0.06235996, 0.06200299, 0.06173626, 0.06117923,\n",
       "       0.0602398 , 0.06053636, 0.05951868, 0.05882504, 0.05892487,\n",
       "       0.05769609, 0.0577133 , 0.05778799, 0.05743075, 0.05665304,\n",
       "       0.05592358, 0.05547077, 0.05450344, 0.05462188, 0.05447078,\n",
       "       0.05369285, 0.05376274, 0.05304046, 0.05255509, 0.05264331,\n",
       "       0.05198536, 0.05174191, 0.05115949, 0.0508733 , 0.04970983,\n",
       "       0.04904676, 0.0498412 , 0.04870154, 0.04893173, 0.04856104,\n",
       "       0.04826366, 0.04785773, 0.04710567, 0.04670692, 0.04673808])"
      ]
     },
     "execution_count": 25,
     "metadata": {},
     "output_type": "execute_result"
    }
   ],
   "source": [
    "n_components = 100\n",
    "lam, W_stack, avg_corr = GCCA(X_prepro, n_components=n_components, regularization='lwcov')\n",
    "avg_corr"
   ]
  },
  {
   "cell_type": "code",
   "execution_count": 26,
   "metadata": {},
   "outputs": [
    {
     "data": {
      "text/plain": [
       "array([0.12449273, 0.11564272, 0.11281938, 0.11250282, 0.10683119,\n",
       "       0.1050767 , 0.10258971, 0.10058677, 0.10078441, 0.09910628,\n",
       "       0.09726383, 0.09589519, 0.09571764, 0.09497647, 0.09418806,\n",
       "       0.0939536 , 0.09360273, 0.09353501, 0.09185125, 0.09001503,\n",
       "       0.09000949, 0.08742488, 0.08676321, 0.08682927, 0.08624751,\n",
       "       0.08427709, 0.08328926, 0.08377679, 0.08357136, 0.08192261,\n",
       "       0.0811159 , 0.08085797, 0.08060084, 0.07998901, 0.07888401,\n",
       "       0.07871409, 0.07757962, 0.07757756, 0.07629349, 0.07539599,\n",
       "       0.07489563, 0.0739896 , 0.07383697, 0.0730746 , 0.07296149,\n",
       "       0.07240425, 0.07160511, 0.07191695, 0.06983186, 0.06962498,\n",
       "       0.06910373, 0.06910789, 0.06879092, 0.06737531, 0.06723982,\n",
       "       0.06639193, 0.06635482, 0.06564124, 0.06521684, 0.06472043,\n",
       "       0.06418077, 0.06384038, 0.06347221, 0.0631736 , 0.06267122,\n",
       "       0.06154757, 0.06189815, 0.06081032, 0.0602602 , 0.06027493,\n",
       "       0.05908108, 0.05899061, 0.05904892, 0.05868016, 0.05798435,\n",
       "       0.05724185, 0.05669943, 0.05567606, 0.05590672, 0.05571832,\n",
       "       0.05488869, 0.05510136, 0.0543145 , 0.05377322, 0.05387393,\n",
       "       0.0533171 , 0.05304353, 0.05234232, 0.05208169, 0.05092898,\n",
       "       0.05023609, 0.05096812, 0.04987691, 0.05006009, 0.04972476,\n",
       "       0.04941235, 0.04900001, 0.04826431, 0.0478588 , 0.04783325])"
      ]
     },
     "execution_count": 26,
     "metadata": {},
     "output_type": "execute_result"
    }
   ],
   "source": [
    "avg_corr_coe(X_prepro, W_stack, N, n_components=n_components)"
   ]
  },
  {
   "cell_type": "code",
   "execution_count": 27,
   "metadata": {},
   "outputs": [
    {
     "data": {
      "text/plain": [
       "array([0.12434029, 0.11556644, 0.1144001 , 0.11268614, 0.1070146 ,\n",
       "       0.10434564, 0.10338931, 0.10046876, 0.09995568, 0.09990031,\n",
       "       0.09679073, 0.09577409, 0.09515005, 0.09443026, 0.09388135,\n",
       "       0.09303274, 0.09284607, 0.09257245, 0.09126764, 0.08901212,\n",
       "       0.08864086, 0.08694185, 0.08615279, 0.08592975, 0.08545251,\n",
       "       0.08411826, 0.08338778, 0.08304739, 0.08273858, 0.08142817,\n",
       "       0.08065327, 0.08006926, 0.07984124, 0.07942499, 0.07811925,\n",
       "       0.07786667, 0.07687651, 0.07654669, 0.07517941, 0.07479677,\n",
       "       0.07404851, 0.07357222, 0.07311704, 0.07237171, 0.07204564,\n",
       "       0.07167271, 0.07098977, 0.07072494, 0.0696081 , 0.06911589,\n",
       "       0.06836251, 0.06799856, 0.06777757, 0.06685758, 0.06653291,\n",
       "       0.06615527, 0.06553152, 0.06506649, 0.06470077, 0.06409557,\n",
       "       0.06359634, 0.06325523, 0.06295382, 0.06238661, 0.06171847,\n",
       "       0.06149556, 0.06108873, 0.0605623 , 0.05989755, 0.05948835,\n",
       "       0.05877758, 0.05857621, 0.05837969, 0.05808594, 0.05751114,\n",
       "       0.05648871, 0.0561347 , 0.05544883, 0.05509929, 0.05497452,\n",
       "       0.05436955, 0.05419227, 0.0535567 , 0.05325821, 0.05300951,\n",
       "       0.05270807, 0.0523748 , 0.05182715, 0.05122565, 0.05055784,\n",
       "       0.05036906, 0.05024472, 0.04951   , 0.04931333, 0.04915665,\n",
       "       0.04883515, 0.04824398, 0.0475934 , 0.04746536, 0.04712853])"
      ]
     },
     "execution_count": 27,
     "metadata": {},
     "output_type": "execute_result"
    }
   ],
   "source": [
    "(1/lam-1)/(N-1)"
   ]
  },
  {
   "cell_type": "markdown",
   "metadata": {},
   "source": [
    "Difference between avg_corr and the one computed by function `avg_corr_coe` is due to the regularization when computing covariance matrices.\n",
    "\n",
    "(1/lam-1)/(N-1) is an approximation of real average pairwise correlation. It assumes that $\\mathbf w_n^H \\mathbf R_{\\mathbf x_n \\mathbf x_n} \\mathbf w_n$ is equal for all $n$ (different subject), which is not true. In all cases we have here, this approximation is actually good enough."
   ]
  },
  {
   "cell_type": "code",
   "execution_count": 28,
   "metadata": {},
   "outputs": [
    {
     "data": {
      "text/plain": [
       "0.02490478108592388"
      ]
     },
     "execution_count": 28,
     "metadata": {},
     "output_type": "execute_result"
    }
   ],
   "source": [
    "# Reference value\n",
    "X_single_channel = X_prepro[:,10,:]\n",
    "corr_mtx = np.corrcoef(X_single_channel, rowvar=False)\n",
    "np.sum(corr_mtx-np.eye(N))/N/(N-1)"
   ]
  },
  {
   "cell_type": "markdown",
   "metadata": {},
   "source": [
    "### Permutation Test"
   ]
  },
  {
   "cell_type": "code",
   "execution_count": 8,
   "metadata": {},
   "outputs": [
    {
     "name": "stderr",
     "output_type": "stream",
     "text": [
      "100%|████████████████████████████████████████████████████████████████████████████████| 100/100 [14:15<00:00,  8.56s/it]\n"
     ]
    }
   ],
   "source": [
    "num_test = 100\n",
    "corr_topK = np.empty((0, n_components))\n",
    "for i in tqdm(range(num_test)):\n",
    "    X_shuffled = shuffle_block(X_prepro, t=3, fs=fs)\n",
    "    _, _, corr_permu = GCCA(X_shuffled, n_components=n_components, regularization='lwcov')\n",
    "    # _, _, corr_permu = GCCA(X_shuffled, n_components=n_components, regularization='lwcov', W_train=W_stack)\n",
    "    corr_topK = np.concatenate((corr_topK, np.expand_dims(corr_permu, axis=0)), axis=0)"
   ]
  },
  {
   "cell_type": "code",
   "execution_count": 9,
   "metadata": {},
   "outputs": [
    {
     "name": "stdout",
     "output_type": "stream",
     "text": [
      "Component 1, top 0.0%\n"
     ]
    },
    {
     "data": {
      "text/plain": [
       "[<matplotlib.lines.Line2D at 0x15ed89dbd60>]"
      ]
     },
     "execution_count": 9,
     "metadata": {},
     "output_type": "execute_result"
    },
    {
     "data": {
      "image/png": "[encoded data removed]",
      "text/plain": [
       "<Figure size 640x480 with 1 Axes>"
      ]
     },
     "metadata": {},
     "output_type": "display_data"
    }
   ],
   "source": [
    "compo = 1\n",
    "signifi = sum(corr_topK[:,0]>avg_corr[compo-1])/num_test*100\n",
    "print(\"Component {compo}, top {signifi}%\".format(compo=compo, signifi=signifi))\n",
    "plt.hist(corr_topK[:,0])\n",
    "plt.title('Permutation test: Example-'+'Component #'+str(compo))\n",
    "# plt.title('Permutation test: Superbowl-'+datatype+'-'+year+'-'+view+'-'+'Component #'+str(compo))\n",
    "plt.xlabel('corr')\n",
    "plt.plot(avg_corr[compo-1], 0, marker=\"o\", markersize=10)"
   ]
  },
  {
   "cell_type": "markdown",
   "metadata": {},
   "source": [
    "### Cross-validation"
   ]
  },
  {
   "cell_type": "code",
   "execution_count": 29,
   "metadata": {},
   "outputs": [],
   "source": [
    "fold = 10\n",
    "cv_n_components = 5\n",
    "corr_train = np.zeros((fold, cv_n_components))\n",
    "corr_test = np.zeros_like(corr_train)\n",
    "T, D, N = X_prepro.shape\n",
    "for i in range(fold):\n",
    "    len_test = T // fold\n",
    "    X_test = X_prepro[len_test*i:len_test*(i+1),:,:]\n",
    "    X_train = np.delete(X_prepro, range(len_test*i, len_test*(i+1)), axis=0)\n",
    "    _, W_train, corr_train[i,:] = GCCA(X_train, n_components=cv_n_components, regularization='lwcov')\n",
    "    # corr_train[i,:] = avg_corr_coe(X_train, W_train, N, n_components=cv_n_components)\n",
    "    _, _, corr_test[i,:] = GCCA(X_test, n_components=cv_n_components, regularization='lwcov', W_train=W_train)"
   ]
  },
  {
   "cell_type": "code",
   "execution_count": 30,
   "metadata": {},
   "outputs": [
    {
     "data": {
      "text/plain": [
       "array([0.12882401, 0.12098105, 0.11829638, 0.11620297, 0.11211726])"
      ]
     },
     "execution_count": 30,
     "metadata": {},
     "output_type": "execute_result"
    }
   ],
   "source": [
    "np.mean(corr_train, axis=0)"
   ]
  },
  {
   "cell_type": "code",
   "execution_count": 31,
   "metadata": {},
   "outputs": [
    {
     "data": {
      "text/plain": [
       "array([0.01916707, 0.00462971, 0.0070183 , 0.01117539, 0.00070067])"
      ]
     },
     "execution_count": 31,
     "metadata": {},
     "output_type": "execute_result"
    }
   ],
   "source": [
    "np.mean(corr_test, axis=0)"
   ]
  },
  {
   "cell_type": "markdown",
   "metadata": {},
   "source": [
    "### GCCA vs Correlated Component Analysis"
   ]
  },
  {
   "cell_type": "code",
   "execution_count": 14,
   "metadata": {},
   "outputs": [],
   "source": [
    "fold = 10\n",
    "cv_n_components = 5\n",
    "ISC_train = np.zeros((fold, cv_n_components))\n",
    "ISC_test = np.zeros_like(ISC_train)\n",
    "T, D, N = X_prepro.shape\n",
    "for i in range(fold):\n",
    "    len_test = T // fold\n",
    "    X_test = X_prepro[len_test*i:len_test*(i+1),:,:]\n",
    "    X_train = np.delete(X_prepro, range(len_test*i, len_test*(i+1)), axis=0)\n",
    "    ISC_train[i,:], W_train = corr_component(X_train, n_components=cv_n_components)\n",
    "    ISC_test[i,:], _ = corr_component(X_test, n_components=cv_n_components, W_train=W_train)"
   ]
  },
  {
   "cell_type": "code",
   "execution_count": 15,
   "metadata": {},
   "outputs": [
    {
     "data": {
      "text/plain": [
       "array([0.05022358, 0.02988394, 0.02490273, 0.01870672, 0.01760152])"
      ]
     },
     "execution_count": 15,
     "metadata": {},
     "output_type": "execute_result"
    }
   ],
   "source": [
    "np.mean(ISC_train, axis=0)"
   ]
  },
  {
   "cell_type": "code",
   "execution_count": 16,
   "metadata": {},
   "outputs": [
    {
     "data": {
      "text/plain": [
       "array([ 0.04280363,  0.02148039,  0.01509772, -0.00111595,  0.00240869])"
      ]
     },
     "execution_count": 16,
     "metadata": {},
     "output_type": "execute_result"
    }
   ],
   "source": [
    "np.mean(ISC_test, axis=0)"
   ]
  },
  {
   "cell_type": "code",
   "execution_count": null,
   "metadata": {},
   "outputs": [],
   "source": []
  }
 ],
 "metadata": {
  "kernelspec": {
   "display_name": "Python 3 (ipykernel)",
   "language": "python",
   "name": "python3"
  },
  "language_info": {
   "codemirror_mode": {
    "name": "ipython",
    "version": 3
   },
   "file_extension": ".py",
   "mimetype": "text/x-python",
   "name": "python",
   "nbconvert_exporter": "python",
   "pygments_lexer": "ipython3",
   "version": "3.10.6"
  },
  "vscode": {
   "interpreter": {
    "hash": "e4780ce94013b4ad826834d504b051d615119766f3ac7f8bac99efc1ee879921"
   }
  }
 },
 "nbformat": 4,
 "nbformat_minor": 4
}
