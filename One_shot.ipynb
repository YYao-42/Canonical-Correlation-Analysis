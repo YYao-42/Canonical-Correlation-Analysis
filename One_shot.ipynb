{
 "cells": [
  {
   "cell_type": "code",
   "execution_count": null,
   "metadata": {},
   "outputs": [],
   "source": [
    "import mne\n",
    "import scipy\n",
    "import numpy as np\n",
    "import matplotlib.pyplot as plt\n",
    "import pandas as pd\n",
    "import utils\n",
    "import algo\n",
    "import os\n",
    "import random\n",
    "import glob\n",
    "import copy\n",
    "import itertools\n",
    "from findpeaks import findpeaks\n",
    "from tqdm import tqdm\n",
    "from numpy import linalg as LA\n",
    "from scipy.stats import zscore, pearsonr\n",
    "from scipy.io import savemat, loadmat\n",
    "from scipy import signal\n",
    "%matplotlib widget"
   ]
  },
  {
   "attachments": {},
   "cell_type": "markdown",
   "metadata": {},
   "source": [
    "## Data Loading"
   ]
  },
  {
   "cell_type": "code",
   "execution_count": null,
   "metadata": {},
   "outputs": [],
   "source": [
    "def multisub_data_org(subjects, video_id, fsStim, bads, band=None, eog=False, regression=False, normalize=True, smooth=True):\n",
    "    feats_path_folder = '../Feature extraction/features/'\n",
    "    objf = np.load(feats_path_folder + video_id + '_mask.npy')\n",
    "    flow = np.load(feats_path_folder + video_id + '_flow.npy')\n",
    "    flow_mag = np.expand_dims(flow[:,8], axis=1)\n",
    "    tempctra = np.load(feats_path_folder + video_id + '_tempctra.npy')\n",
    "    tc_mask = np.load(feats_path_folder + video_id + '_tcmask.npy')\n",
    "    feats = np.concatenate((objf, tc_mask, flow_mag, tempctra), axis=1)\n",
    "    feats = utils.clean_features(feats, smooth=smooth)\n",
    "    T = feats.shape[0]\n",
    "    eeg_list = []\n",
    "    hf_list = []\n",
    "    eog_list = []\n",
    "    N = len(subjects)\n",
    "    for n in range(N):\n",
    "        eeg_path = '../../Experiments/data/'+ subjects[n] +'/' + video_id + '_eeg.set'\n",
    "        eeg_prepro, fs, high_freq = utils.preprocessing(eeg_path, HP_cutoff = 0.5, AC_freqs=50, band=band, resamp_freqs=fsStim, bads=bads[n], eog=eog, regression=regression, normalize=normalize)\n",
    "        eeg_channel_indices = mne.pick_types(eeg_prepro.info, eeg=True)\n",
    "        eog_channel_indices = mne.pick_types(eeg_prepro.info, eog=True)\n",
    "        eeg_downsampled, _ = eeg_prepro[eeg_channel_indices]\n",
    "        eog_downsampled, _ = eeg_prepro[eog_channel_indices]\n",
    "        eeg_downsampled = eeg_downsampled.T\n",
    "        eog_downsampled = eog_downsampled.T\n",
    "        eeg_list.append(eeg_downsampled)\n",
    "        eog_list.append(eog_downsampled)\n",
    "        if eeg_downsampled.shape[0] < T:\n",
    "            T = eeg_downsampled.shape[0]\n",
    "        hf_indices = mne.pick_types(high_freq.info, eeg=True)\n",
    "        hf_downsampled, _ = high_freq[hf_indices]\n",
    "        hf_downsampled = hf_downsampled.T\n",
    "        hf_list.append(hf_downsampled)\n",
    "        if hf_downsampled.shape[0] < T:\n",
    "            T = hf_downsampled.shape[0] \n",
    "    # Clip data\n",
    "    feats = feats[fsStim:T-fsStim, :]\n",
    "    eeg_list = [np.expand_dims(eeg[fsStim:T-fsStim,:], axis=2) for eeg in eeg_list]\n",
    "    eog_list = [np.expand_dims(eog[fsStim:T-fsStim,:], axis=2) for eog in eog_list]\n",
    "    hf_list = [np.expand_dims(eeg[fsStim:T-fsStim,:], axis=2) for eeg in hf_list]\n",
    "    eeg_multisub = np.concatenate(tuple(eeg_list), axis=2)\n",
    "    eog_multisub = np.concatenate(tuple(eog_list), axis=2)\n",
    "    hf_multisub = np.concatenate(tuple(hf_list), axis=2)\n",
    "    times = np.array(range(T))/fs\n",
    "    return feats, eeg_multisub, eog_multisub, hf_multisub, fs, times"
   ]
  },
  {
   "cell_type": "code",
   "execution_count": null,
   "metadata": {},
   "outputs": [],
   "source": [
    "%%capture\n",
    "subjects = ['AS', 'YY', 'CM', 'SUB1', 'IR', 'SUB2', 'YZ', 'WD', 'CC', 'CW', 'WS', 'VC','HV','JC','DV','CD','JV','KY']\n",
    "bads = [[], ['B25'], ['A24'], ['B25'], ['B25'], ['B25'], ['A11','B7','B25'], ['B25','B31'], ['B25'], [], ['A1','A30','B25'], ['B25','B31'], ['B25','B31','A20','A21','A26','A31'], ['B25','B31','B32','A28','A29','A30'],['A25','A30','B25','B29'],['A30','B25','B31'],['A30','B25'],[]]\n",
    "eeg_path_folder = \"../../Experiments/data/CD/\"\n",
    "video_ids = [dataset[0:2] for dataset in os.listdir(eeg_path_folder) if dataset.endswith('.set')]\n",
    "video_ids.remove('Mr')\n",
    "features_list = []\n",
    "eeg_multisub_list = []\n",
    "eog_multisub_list = []\n",
    "hf_multisub_list = []\n",
    "for video_id in video_ids:\n",
    "    features, eeg_multisub, eog_multisub, hf_multisub, fs, _ = multisub_data_org(subjects, video_id, fsStim=30, bads=bads, band=[25,35], eog=True, regression=True, normalize=True, smooth=True)\n",
    "    features_list.append(features) \n",
    "    eeg_multisub_list.append(eeg_multisub)\n",
    "    eog_multisub_list.append(eog_multisub)\n",
    "    hf_multisub_list.append(hf_multisub)\n",
    "T = sum([F.shape[0] for F in features_list])\n",
    "times = np.array(range(T))/fs"
   ]
  },
  {
   "cell_type": "code",
   "execution_count": null,
   "metadata": {},
   "outputs": [],
   "source": [
    "n_sub = len(subjects)\n",
    "T/fs/60"
   ]
  },
  {
   "cell_type": "code",
   "execution_count": null,
   "metadata": {},
   "outputs": [],
   "source": [
    "bio32 = mne.channels.make_standard_montage('biosemi32')\n",
    "bio64 = mne.channels.make_standard_montage('biosemi64')\n",
    "downsample_ind = [ch in bio32.ch_names for ch in bio64.ch_names]\n",
    "# complem_ind = [ch not in bio32.ch_names for ch in bio64.ch_names]"
   ]
  },
  {
   "cell_type": "code",
   "execution_count": null,
   "metadata": {},
   "outputs": [],
   "source": [
    "eeg_32_list = [eeg64[:,downsample_ind,:] for eeg64 in eeg_multisub_list]\n",
    "hf_32_list = [hf64[:,downsample_ind,:] for hf64 in hf_multisub_list]\n",
    "mix_64_list = [np.concatenate((eeg32, hf32), axis=1) for eeg32, hf32 in zip(eeg_32_list, hf_32_list)]"
   ]
  },
  {
   "attachments": {},
   "cell_type": "markdown",
   "metadata": {},
   "source": [
    "## CCA"
   ]
  },
  {
   "cell_type": "code",
   "execution_count": null,
   "metadata": {},
   "outputs": [],
   "source": [
    "def pip_CCA(eeg_multisub_list, feature_list, fs, n_sub, fig_name, tab_name, L_EEG=3, L_Stim=int(fs/2), offset_EEG=1, offset_Stim=0, signifi_level=True, n_components=5, ifEOG=False):\n",
    "    cc = np.zeros((n_sub, n_components+3))\n",
    "    for id_sub in range(n_sub):\n",
    "        print('subject: ', id_sub+1)\n",
    "        eeg_onesub_list = [eeg[:,:,id_sub] for eeg in eeg_multisub_list]\n",
    "        CCA = algo.CanonicalCorrelationAnalysis(eeg_onesub_list, feature_list, fs, L_EEG, L_Stim, offset_EEG, offset_Stim, signifi_level=signifi_level, n_components=n_components)\n",
    "        _, corr_test, sig_corr, _, tsc_test, _, _, V_A_train, V_B_train = CCA.cross_val()\n",
    "        cc[id_sub,0] = int(id_sub+1)\n",
    "        cc[id_sub,1:n_components+1] = np.average(corr_test, axis=0)\n",
    "        cc[id_sub,-2] = np.average(tsc_test)\n",
    "        cc[id_sub,-1] = sig_corr\n",
    "        eeg_onesub = np.concatenate(tuple(eeg_onesub_list), axis=0)\n",
    "        forward_model = CCA.forward_model(eeg_onesub, V_A_train)\n",
    "        if not ifEOG:\n",
    "            if not os.path.exists('figures/CCA/OneShot'):\n",
    "                os.makedirs('figures/CCA/OneShot')\n",
    "            utils.plot_spatial_resp(forward_model, corr_test, 'figures/CCA/OneShot/'+fig_name+str(id_sub+1)+'.png')\n",
    "    columns = ['ID'] + ['CC'+str(i+1) for i in range(n_components)] + ['TSC(top2)','Sig_corr']\n",
    "    df_cca = pd.DataFrame(cc, columns = columns)\n",
    "    if not os.path.exists('tables/CCA/OneShot'):\n",
    "        os.makedirs('tables/CCA/OneShot')\n",
    "    df_cca.to_csv('tables/CCA/OneShot/'+tab_name+'.csv', index=False)"
   ]
  },
  {
   "cell_type": "code",
   "execution_count": null,
   "metadata": {},
   "outputs": [],
   "source": [
    "avgflow_list = [feats[:,20] for feats in features_list]\n",
    "avgtempctr_list = [feats[:,21] for feats in features_list]\n",
    "objflow_list = [feats[:,8] for feats in features_list]\n",
    "objtempctr_list = [feats[:,17] for feats in features_list]"
   ]
  },
  {
   "cell_type": "code",
   "execution_count": null,
   "metadata": {},
   "outputs": [],
   "source": [
    "pip_CCA(eeg_multisub_list, avgflow_list, fs, n_sub, 'SR_avgflow_', 'avgflow_eeg')"
   ]
  },
  {
   "cell_type": "code",
   "execution_count": null,
   "metadata": {},
   "outputs": [],
   "source": [
    "pip_CCA(eeg_multisub_list, avgtempctr_list, fs, n_sub, 'SR_avgtempctr_', 'avgtpempctr_eeg')"
   ]
  },
  {
   "cell_type": "code",
   "execution_count": null,
   "metadata": {},
   "outputs": [],
   "source": [
    "pip_CCA(eeg_multisub_list, objflow_list, fs, n_sub, 'SR_objflow_', 'objflow_eeg')"
   ]
  },
  {
   "cell_type": "code",
   "execution_count": null,
   "metadata": {},
   "outputs": [],
   "source": [
    "pip_CCA(eeg_multisub_list, objtempctr_list, fs, n_sub, 'SR_objtempctr_', 'objtempctr_eeg')"
   ]
  },
  {
   "cell_type": "code",
   "execution_count": null,
   "metadata": {},
   "outputs": [],
   "source": [
    "pip_CCA(eog_multisub_list, objflow_list, fs, n_sub, 'DoesNotMatter', 'objflow_eog', ifEOG=True)"
   ]
  },
  {
   "cell_type": "code",
   "execution_count": null,
   "metadata": {},
   "outputs": [],
   "source": [
    "pip_CCA(eog_multisub_list, objtempctr_list, fs, n_sub, 'DoesNotMatter', 'objtempctr_eog', ifEOG=True)"
   ]
  },
  {
   "attachments": {},
   "cell_type": "markdown",
   "metadata": {},
   "source": [
    "## CorrCA "
   ]
  },
  {
   "cell_type": "code",
   "execution_count": null,
   "metadata": {},
   "outputs": [],
   "source": [
    "n_sub = len(subjects)\n",
    "eeg = [eeg[:,:,0:n_sub] for eeg in eeg_multisub_list]\n",
    "corr_CA = algo.CorrelatedComponentAnalysis(eeg, fs, L=5, offset=2, signifi_level=True, n_components=10)\n",
    "corr_train, corr_test, tsc_train, tsc_test, isc_train, isc_test, W_train, F_train = corr_CA.cross_val()\n",
    "# eeg_concat = np.concatenate(eeg, axis=0)\n",
    "# F = corr_CA.forward_model(eeg_concat, W_train)\n",
    "if not os.path.exists('figures/CorrCA/Oneshot'):\n",
    "    os.makedirs('figures/CorrCA/Oneshot')\n",
    "utils.plot_spatial_resp(F_train, corr_test, 'figures/CorrCA/Oneshot/'+str(n_sub)+'.png')"
   ]
  },
  {
   "cell_type": "code",
   "execution_count": null,
   "metadata": {},
   "outputs": [],
   "source": [
    "subject_list = range(len(subjects))\n",
    "corr_mean = []\n",
    "tsc_mean = []\n",
    "corr_std = []\n",
    "tsc_std = []\n",
    "for n_sub in range(2, len(subjects)+1):\n",
    "    print('number of subjects: ', n_sub)\n",
    "    corr_list = []\n",
    "    tsc_list = []\n",
    "    count = 0\n",
    "    comb_list = list(itertools.combinations(subject_list, n_sub))\n",
    "    random.shuffle(comb_list)\n",
    "    for item in comb_list:\n",
    "        count += 1\n",
    "        if count > 30:\n",
    "            break\n",
    "        eeg = [eeg[:,:,list(item)] for eeg in eeg_multisub_list]\n",
    "        corr_CA = algo.CorrelatedComponentAnalysis(eeg, fs, L=5, offset=2, n_components=10, signifi_level=False, message=False)\n",
    "        _, corr_test, _, tsc_test, _, _, _, _ = corr_CA.cross_val()\n",
    "        corr_list.append(corr_test)\n",
    "        tsc_list.append(tsc_test)\n",
    "    corr_all = np.concatenate(tuple(corr_list), axis=0)\n",
    "    tsc_all = np.concatenate(tuple(tsc_list), axis=0)\n",
    "    corr_mean.append(np.mean(corr_all, axis=0))\n",
    "    tsc_mean.append(np.mean(tsc_all))\n",
    "    print('tsc_mean: ', np.mean(tsc_all))\n",
    "    corr_std.append(np.std(corr_all, axis=0))\n",
    "    tsc_std.append(np.std(tsc_all))\n",
    "    print('tsc_std: ', np.std(tsc_all))\n"
   ]
  },
  {
   "cell_type": "code",
   "execution_count": null,
   "metadata": {},
   "outputs": [],
   "source": [
    "# np.savez('tables/CorrCA_18.npz', tsc_mean=tsc_mean, tsc_std=tsc_std, corr_mean=corr_mean, corr_std=corr_std)"
   ]
  },
  {
   "cell_type": "code",
   "execution_count": null,
   "metadata": {},
   "outputs": [],
   "source": [
    "nb_samples = eeg_multisub_concat.shape[0]\n",
    "len_list = np.linspace(10, 60, 11).astype(int)\n",
    "corr_mean = []\n",
    "tsc_mean = []\n",
    "corr_std = []\n",
    "tsc_std = []\n",
    "for length in len_list:\n",
    "    print('amount of data (min): ', length)\n",
    "    len_block = length*fs*60\n",
    "    idx_end = nb_samples-len_block\n",
    "    corr_list = []\n",
    "    tsc_list = []\n",
    "    for count in range(30):\n",
    "        start_point = random.randint(0, idx_end)\n",
    "        eeg = [eeg_multisub_concat[start_point:start_point+len_block,:,:]]\n",
    "        corr_CA = algo.CorrelatedComponentAnalysis(eeg, fs, L=5, offset=2, n_components=10, signifi_level=False, message=False, trials=True)\n",
    "        _, corr_test, _, tsc_test, _, isc_test, _, _ = corr_CA.cross_val()\n",
    "        corr_list.append(corr_test)\n",
    "        tsc_list.append(tsc_test)\n",
    "    corr_all = np.concatenate(tuple(corr_list), axis=0)\n",
    "    tsc_all = np.concatenate(tuple(tsc_list), axis=0)\n",
    "    corr_mean.append(np.mean(corr_all, axis=0))\n",
    "    tsc_mean.append(np.mean(tsc_all))\n",
    "    print('tsc_mean: ', np.mean(tsc_all))\n",
    "    corr_std.append(np.std(corr_all, axis=0))\n",
    "    tsc_std.append(np.std(tsc_all))\n",
    "    print('tsc_std: ', np.std(tsc_all))"
   ]
  },
  {
   "attachments": {},
   "cell_type": "markdown",
   "metadata": {},
   "source": [
    "### Stimulus-informed version"
   ]
  },
  {
   "cell_type": "code",
   "execution_count": null,
   "metadata": {},
   "outputs": [],
   "source": [
    "L_EEG = 5 # correlations can be higher if include time lags\n",
    "offset_EEG = 2\n",
    "L_Stim = int(fs/2)\n",
    "offset_Stim = 0\n",
    "SICorrCA = algo.StimulusInformedCorrCA([eeg_sub_list, objflow_list], fs, [L_EEG, L_Stim], [offset_EEG, offset_Stim])\n",
    "_, corr_test, _, tsc_test, _, dist_test, _, _, rho = SICorrCA.cross_val()"
   ]
  },
  {
   "cell_type": "code",
   "execution_count": null,
   "metadata": {},
   "outputs": [],
   "source": [
    "subject_list = range(len(subjects))\n",
    "corr_mean = []\n",
    "tsc_mean = []\n",
    "corr_std = []\n",
    "tsc_std = []\n",
    "for n_sub in range(2, len(subjects)+1):\n",
    "    print('number of subjects: ', n_sub)\n",
    "    corr_list = []\n",
    "    tsc_list = []\n",
    "    count = 0\n",
    "    comb_list = list(itertools.combinations(subject_list, n_sub))\n",
    "    random.shuffle(comb_list)\n",
    "    for item in comb_list:\n",
    "        count += 1\n",
    "        if count > 30:\n",
    "            break\n",
    "        eeg = [eeg[:,:,list(item)] for eeg in eeg_multisub_list]\n",
    "        nested_datalist = [eeg, mag_avg_list]\n",
    "        Llist = [5, int(fs/2)]\n",
    "        offsetlist = [2, 0]\n",
    "        SI_CorrCA = algo.StimulusInformedCorrCA(nested_datalist, fs, Llist, offsetlist, n_components=10, signifi_level=False, message=False)\n",
    "        _, corr_test, _, tsc_test, _, _, _, _, _ = SI_CorrCA.cross_val()\n",
    "        corr_list.append(corr_test)\n",
    "        tsc_list.append(tsc_test)\n",
    "    corr_all = np.concatenate(tuple(corr_list), axis=0)\n",
    "    tsc_all = np.concatenate(tuple(tsc_list), axis=0)\n",
    "    corr_mean.append(np.mean(corr_all, axis=0))\n",
    "    tsc_mean.append(np.mean(tsc_all))\n",
    "    print('tsc_mean: ', np.mean(tsc_all))\n",
    "    corr_std.append(np.std(corr_all, axis=0))\n",
    "    tsc_std.append(np.std(tsc_all))\n",
    "    print('tsc_std: ', np.std(tsc_all))\n"
   ]
  },
  {
   "cell_type": "code",
   "execution_count": null,
   "metadata": {},
   "outputs": [],
   "source": [
    "# np.savez('tables/SICorrCA_md.npz', tsc_mean=tsc_mean, tsc_std=tsc_std, corr_mean=corr_mean, corr_std=corr_std, isc_mean=isc_mean, isc_std=isc_std)"
   ]
  },
  {
   "attachments": {},
   "cell_type": "markdown",
   "metadata": {},
   "source": [
    "## GCCA"
   ]
  },
  {
   "cell_type": "code",
   "execution_count": null,
   "metadata": {},
   "outputs": [],
   "source": [
    "# GCCA-x subjects\n",
    "eeg = [eeg[:,:,0:len(subjects)] for eeg in eeg_multisub_list]\n",
    "GCCA = algo.GeneralizedCCA(eeg, fs, L=5, offset=2, n_components=10, signifi_level=True)\n",
    "corr_train, corr_test, tsc_train, tsc_test, dist_train, dist_test, W_train, F_train = GCCA.cross_val()"
   ]
  },
  {
   "cell_type": "code",
   "execution_count": null,
   "metadata": {},
   "outputs": [],
   "source": [
    "subject_list = range(len(subjects))\n",
    "corr_mean = []\n",
    "tsc_mean = []\n",
    "corr_std = []\n",
    "tsc_std = []\n",
    "for n_sub in range(2, len(subjects)+1):\n",
    "    print('number of subjects: ', n_sub)\n",
    "    corr_list = []\n",
    "    tsc_list = []\n",
    "    isc_list = []\n",
    "    count = 0\n",
    "    comb_list = list(itertools.combinations(subject_list, n_sub))\n",
    "    random.shuffle(comb_list)\n",
    "    for item in comb_list:\n",
    "        count += 1\n",
    "        if count > 30:\n",
    "            break\n",
    "        eeg = [eeg[:,:,list(item)] for eeg in eeg_multisub_list]\n",
    "        GCCA = algo.GeneralizedCCA(eeg, fs, L=5, offset=2, n_components=10, signifi_level=False, message=False)\n",
    "        _, corr_test, _, tsc_test, _, _, _, _ = GCCA.cross_val()\n",
    "        corr_list.append(corr_test)\n",
    "        tsc_list.append(tsc_test)\n",
    "    corr_all = np.concatenate(tuple(corr_list), axis=0)\n",
    "    tsc_all = np.concatenate(tuple(tsc_list), axis=0)\n",
    "    corr_mean.append(np.mean(corr_all, axis=0))\n",
    "    tsc_mean.append(np.mean(tsc_all))\n",
    "    print('tsc_mean: ', np.mean(tsc_all))\n",
    "    corr_std.append(np.std(corr_all, axis=0))\n",
    "    tsc_std.append(np.std(tsc_all))\n",
    "    print('tsc_std: ', np.std(tsc_all))\n"
   ]
  },
  {
   "cell_type": "code",
   "execution_count": null,
   "metadata": {},
   "outputs": [],
   "source": [
    "# np.savez('tables/GCCA_18.npz', tsc_mean=tsc_mean, tsc_std=tsc_std, corr_mean=corr_mean, corr_std=corr_std)"
   ]
  },
  {
   "cell_type": "code",
   "execution_count": null,
   "metadata": {},
   "outputs": [],
   "source": [
    "nb_samples = eeg_multisub_concat.shape[0]\n",
    "len_list = np.linspace(10, 60, 11).astype(int)\n",
    "corr_mean = []\n",
    "tsc_mean = []\n",
    "corr_std = []\n",
    "tsc_std = []\n",
    "for length in len_list:\n",
    "    print('amount of data (min): ', length)\n",
    "    len_block = length*fs*60\n",
    "    idx_end = nb_samples-len_block\n",
    "    corr_list = []\n",
    "    tsc_list = []\n",
    "    for count in range(30):\n",
    "        start_point = random.randint(0, idx_end)\n",
    "        eeg = [eeg_multisub_concat[start_point:start_point+len_block,:,:]]\n",
    "        GCCA = algo.GeneralizedCCA(eeg, fs, L=5, offset=2, n_components=10, signifi_level=False, message=False, trials=True)\n",
    "        _, corr_test, _, tsc_test, _, _, _, _ = GCCA.cross_val()\n",
    "        corr_list.append(corr_test)\n",
    "        tsc_list.append(tsc_test)\n",
    "    corr_all = np.concatenate(tuple(corr_list), axis=0)\n",
    "    tsc_all = np.concatenate(tuple(tsc_list), axis=0)\n",
    "    corr_mean.append(np.mean(corr_all, axis=0))\n",
    "    tsc_mean.append(np.mean(tsc_all))\n",
    "    print('tsc_mean: ', np.mean(tsc_all))\n",
    "    corr_std.append(np.std(corr_all, axis=0))\n",
    "    tsc_std.append(np.std(tsc_all))\n",
    "    print('tsc_std: ', np.std(tsc_all))"
   ]
  },
  {
   "attachments": {},
   "cell_type": "markdown",
   "metadata": {},
   "source": [
    "### Stimulus-informed version"
   ]
  },
  {
   "cell_type": "code",
   "execution_count": null,
   "metadata": {},
   "outputs": [],
   "source": [
    "eeg = [eeg[:,:,0:len(subjects)] for eeg in eeg_multisub_list]\n",
    "mag_avg_list = [feats[:,8] for feats in features_list]\n",
    "nested_datalist = [eeg, mag_avg_list]\n",
    "Llist = [5, int(fs/2)]\n",
    "offsetlist = [2, 0]\n",
    "SI_GCCA = algo.StimulusInformedGCCA(nested_datalist, fs, Llist, offsetlist, n_components=10, message=True, signifi_level=False)\n",
    "_, corr_test, _, tsc_test, _, dist_test, _, F_train, rho = SI_GCCA.cross_val(rho=1)"
   ]
  },
  {
   "cell_type": "code",
   "execution_count": null,
   "metadata": {},
   "outputs": [],
   "source": [
    "subject_list = range(len(subjects))\n",
    "corr_mean = []\n",
    "tsc_mean = []\n",
    "corr_std = []\n",
    "tsc_std = []\n",
    "for n_sub in range(2, len(subjects)+1):\n",
    "    print('number of subjects: ', n_sub)\n",
    "    corr_list = []\n",
    "    tsc_list = []\n",
    "    isc_list = []\n",
    "    count = 0\n",
    "    comb_list = list(itertools.combinations(subject_list, n_sub))\n",
    "    random.shuffle(comb_list)\n",
    "    for item in comb_list:\n",
    "        count += 1\n",
    "        if count > 30:\n",
    "            break\n",
    "        eeg = [eeg[:,:,list(item)] for eeg in eeg_multisub_list]\n",
    "        nested_datalist = [eeg, mag_avg_list]\n",
    "        Llist = [5, int(fs/2)]\n",
    "        offsetlist = [2, 0]\n",
    "        SI_GCCA = algo.StimulusInformedGCCA(nested_datalist, fs, Llist, offsetlist, n_components=10, signifi_level=False, message=False)\n",
    "        _, corr_test, _, tsc_test, _, _, _, _, _ = SI_GCCA.cross_val()\n",
    "        corr_list.append(corr_test)\n",
    "        tsc_list.append(tsc_test)\n",
    "    corr_all = np.concatenate(tuple(corr_list), axis=0)\n",
    "    tsc_all = np.concatenate(tuple(tsc_list), axis=0)\n",
    "    corr_mean.append(np.mean(corr_all, axis=0))\n",
    "    tsc_mean.append(np.mean(tsc_all))\n",
    "    print('tsc_mean: ', np.mean(tsc_all))\n",
    "    corr_std.append(np.std(corr_all, axis=0))\n",
    "    tsc_std.append(np.std(tsc_all))\n",
    "    print('tsc_std: ', np.std(tsc_all))\n"
   ]
  },
  {
   "cell_type": "code",
   "execution_count": null,
   "metadata": {},
   "outputs": [],
   "source": [
    "# np.savez('tables/SIGCCA_md.npz', tsc_mean=tsc_mean, tsc_std=tsc_std, corr_mean=corr_mean, corr_std=corr_std)"
   ]
  },
  {
   "attachments": {},
   "cell_type": "markdown",
   "metadata": {},
   "source": [
    "## CorrCA/GCCA + LS"
   ]
  },
  {
   "cell_type": "code",
   "execution_count": null,
   "metadata": {},
   "outputs": [],
   "source": [
    "def pip_GCCA_LS(eeg_multisub_list, feature_list, n_sub, tab_name, ifcorrca, L_EEG=5, L_Stim=int(fs/2), offset_EEG=2, offset_Stim=0, id_sub=0, n_components=10):\n",
    "    LSGCCA = algo.LSGCCA(eeg_multisub_list, feature_list, fs, L_EEG, L_Stim, offset_EEG, offset_Stim, id_sub=0, corrca=ifcorrca, n_components=n_components)\n",
    "    LSGCCA.to_latent_space()\n",
    "    cc = np.zeros((n_sub, n_components+2))\n",
    "    for id_sub in range(n_sub):\n",
    "        print('subject: ', id_sub+1)\n",
    "        LSGCCA.id_sub = id_sub\n",
    "        _, corr_test, sig_corr, We_train, Ws_train, F_train = LSGCCA.cross_val()\n",
    "        cc[id_sub,0] = int(id_sub+1)\n",
    "        cc[id_sub,1:n_components+1] = np.average(corr_test, axis=0)\n",
    "        cc[id_sub,-1] = sig_corr\n",
    "    columns = ['ID'] + ['CC'+str(i+1) for i in range(n_components)] + ['Sig_corr']\n",
    "    df_cca = pd.DataFrame(cc, columns = columns)\n",
    "    if not os.path.exists('tables/GCCA_LS/OneShot'):\n",
    "        os.makedirs('tables/GCCA_LS/OneShot')\n",
    "    df_cca.to_csv('tables/GCCA_LS/OneShot/'+tab_name+'.csv', index=False)"
   ]
  },
  {
   "cell_type": "code",
   "execution_count": null,
   "metadata": {},
   "outputs": [],
   "source": [
    "pip_GCCA_LS(eeg_multisub_list, objflow_list, n_sub, 'GCCA_objflow', ifcorrca=False)"
   ]
  },
  {
   "cell_type": "code",
   "execution_count": null,
   "metadata": {},
   "outputs": [],
   "source": [
    "pip_GCCA_LS(eeg_multisub_list, objtempctr_list, n_sub, 'GCCA_objtempctr', ifcorrca=False)"
   ]
  }
 ],
 "metadata": {
  "kernelspec": {
   "display_name": "signal",
   "language": "python",
   "name": "python3"
  },
  "language_info": {
   "codemirror_mode": {
    "name": "ipython",
    "version": 3
   },
   "file_extension": ".py",
   "mimetype": "text/x-python",
   "name": "python",
   "nbconvert_exporter": "python",
   "pygments_lexer": "ipython3",
   "version": "3.10.6"
  },
  "orig_nbformat": 4,
  "vscode": {
   "interpreter": {
    "hash": "e4780ce94013b4ad826834d504b051d615119766f3ac7f8bac99efc1ee879921"
   }
  }
 },
 "nbformat": 4,
 "nbformat_minor": 2
}
