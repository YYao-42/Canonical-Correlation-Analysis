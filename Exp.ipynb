{
 "cells": [
  {
   "cell_type": "code",
   "execution_count": 1,
   "metadata": {},
   "outputs": [],
   "source": [
    "import scipy.io\n",
    "import numpy as np\n",
    "import utils\n",
    "import matplotlib.pyplot as plt\n",
    "import os\n",
    "from numpy import linalg as LA\n",
    "from scipy import signal\n",
    "from scipy.linalg import toeplitz\n",
    "from scipy.stats import zscore, pearsonr\n",
    "from sklearn.covariance import LedoitWolf\n",
    "from tqdm import tqdm"
   ]
  },
  {
   "cell_type": "code",
   "execution_count": 2,
   "metadata": {},
   "outputs": [],
   "source": [
    "EEG_data = scipy.io.loadmat('../Correlated Component Analysis/data/Prepro_EEG.mat')\n",
    "X_prepro = EEG_data['X']\n",
    "fsEEG = 256\n",
    "T, D, N = X_prepro.shape"
   ]
  },
  {
   "cell_type": "code",
   "execution_count": 3,
   "metadata": {},
   "outputs": [],
   "source": [
    "features_data = scipy.io.loadmat('../Correlated Component Analysis/data/features.mat')\n",
    "fsStim = int(features_data['fsVideo'])\n",
    "features = np.nan_to_num(features_data['muFlow'])"
   ]
  },
  {
   "cell_type": "code",
   "execution_count": 4,
   "metadata": {},
   "outputs": [],
   "source": [
    "downsampledEEG = signal.resample_poly(X_prepro, fsStim, fsEEG)\n",
    "features = features[:downsampledEEG.shape[0]]\n",
    "normalized_features = zscore(features)"
   ]
  },
  {
   "cell_type": "markdown",
   "metadata": {},
   "source": [
    "###  Only use the data of one subject and perform CCA"
   ]
  },
  {
   "cell_type": "code",
   "execution_count": 5,
   "metadata": {},
   "outputs": [],
   "source": [
    "EEG_of_one_sub = downsampledEEG[:,:,0]\n",
    "L_timefilter = fsStim"
   ]
  },
  {
   "cell_type": "code",
   "execution_count": 6,
   "metadata": {},
   "outputs": [
    {
     "data": {
      "text/plain": [
       "array([0.2989372 , 0.2285284 , 0.18205523, 0.17242502, 0.14464959])"
      ]
     },
     "execution_count": 6,
     "metadata": {},
     "output_type": "execute_result"
    }
   ],
   "source": [
    "n_components = 5\n",
    "conv_mtx = utils.convolution_mtx(L_timefilter, normalized_features)\n",
    "corr_coe, p_value, V_A, V_B = utils.cano_corr(EEG_of_one_sub, conv_mtx, n_components=n_components)\n",
    "corr_coe"
   ]
  },
  {
   "cell_type": "markdown",
   "metadata": {},
   "source": [
    "#### Equivalence of CCA and GCCA when there are only two datasets"
   ]
  },
  {
   "cell_type": "code",
   "execution_count": 7,
   "metadata": {},
   "outputs": [],
   "source": [
    "datalist = [EEG_of_one_sub, conv_mtx]\n",
    "_, W = utils.GCCA_multi_modal(datalist, n_components, regularization=None)\n",
    "W_EEG = W[:D,:]\n",
    "W_Stim = W[D:D+L_timefilter,:]"
   ]
  },
  {
   "cell_type": "code",
   "execution_count": 8,
   "metadata": {},
   "outputs": [
    {
     "data": {
      "text/plain": [
       "array([0.2989372 , 0.2285284 , 0.18205523, 0.17242502, 0.14464959])"
      ]
     },
     "execution_count": 8,
     "metadata": {},
     "output_type": "execute_result"
    }
   ],
   "source": [
    "EEG_trans = EEG_of_one_sub@W_EEG\n",
    "Stim_trans = conv_mtx@W_Stim\n",
    "corr_pvalue = [pearsonr(EEG_trans[:,k], Stim_trans[:,k]) for k in range(n_components)]\n",
    "corr_coe = np.array([corr_pvalue[k][0] for k in range(n_components)])\n",
    "corr_coe"
   ]
  },
  {
   "cell_type": "markdown",
   "metadata": {},
   "source": [
    "#### Cross-Validation"
   ]
  },
  {
   "cell_type": "code",
   "execution_count": 9,
   "metadata": {},
   "outputs": [],
   "source": [
    "fold = 10\n",
    "corr_train_avg = np.zeros(n_components)\n",
    "corr_test_avg = np.zeros(n_components)\n",
    "for idx in range(fold):\n",
    "    EEG_train, EEG_test, Sti_train, Sti_test = utils.split(EEG_of_one_sub, normalized_features, fold=fold, fold_idx=idx+1)\n",
    "    conv_mtx_train = utils.convolution_mtx(L_timefilter, Sti_train)\n",
    "    corr_coe_train, p_value_train, V_A_train, V_B_train = utils.cano_corr(EEG_train, conv_mtx_train, n_components=n_components)\n",
    "    conv_mtx_test = utils.convolution_mtx(L_timefilter, Sti_test)\n",
    "    corr_coe_test, p_value_test, _, _ = utils.cano_corr(EEG_test, conv_mtx_test, n_components=n_components, V_A=V_A_train, V_B=V_B_train)\n",
    "    corr_train_avg = corr_train_avg + corr_coe_train\n",
    "    corr_test_avg = corr_test_avg + corr_coe_test\n",
    "corr_train_avg = corr_train_avg / fold\n",
    "corr_test_avg = corr_test_avg / fold"
   ]
  },
  {
   "cell_type": "code",
   "execution_count": 10,
   "metadata": {},
   "outputs": [
    {
     "data": {
      "text/plain": [
       "array([0.3091124 , 0.24412388, 0.19284348, 0.18006853, 0.15290927])"
      ]
     },
     "execution_count": 10,
     "metadata": {},
     "output_type": "execute_result"
    }
   ],
   "source": [
    "corr_train_avg"
   ]
  },
  {
   "cell_type": "code",
   "execution_count": 11,
   "metadata": {},
   "outputs": [
    {
     "data": {
      "text/plain": [
       "array([ 0.10005108,  0.00236058, -0.0071686 ,  0.0207658 ,  0.00207027])"
      ]
     },
     "execution_count": 11,
     "metadata": {},
     "output_type": "execute_result"
    }
   ],
   "source": [
    "corr_test_avg"
   ]
  },
  {
   "cell_type": "markdown",
   "metadata": {},
   "source": [
    "### Make use of all data using GCCA"
   ]
  },
  {
   "cell_type": "code",
   "execution_count": 12,
   "metadata": {},
   "outputs": [],
   "source": [
    "datalist = [downsampledEEG, conv_mtx]\n",
    "_, W = utils.GCCA_multi_modal(datalist, n_components, regularization='lwcov')\n",
    "W_EEG = W[:N*D,:]\n",
    "W_EEG_stack = np.reshape(W_EEG, (N,D,-1))\n",
    "W_EEG_stack = np.transpose(W_EEG_stack, [1,0,2]) # W: D*N*n_components\n",
    "W_Stim = W[N*D:N*D+L_timefilter,:]\n",
    "Wlist = [W_EEG_stack, W_Stim]"
   ]
  },
  {
   "cell_type": "code",
   "execution_count": 13,
   "metadata": {},
   "outputs": [
    {
     "data": {
      "text/plain": [
       "array([0.1772279 , 0.15980386, 0.15726257, 0.15421245, 0.15289233])"
      ]
     },
     "execution_count": 13,
     "metadata": {},
     "output_type": "execute_result"
    }
   ],
   "source": [
    "avg_corr = utils.avg_corr_coe_multi_modal(datalist, Wlist, n_components=5)\n",
    "avg_corr"
   ]
  },
  {
   "cell_type": "markdown",
   "metadata": {},
   "source": [
    "#### Cross-Validation"
   ]
  },
  {
   "cell_type": "code",
   "execution_count": 14,
   "metadata": {},
   "outputs": [],
   "source": [
    "fold = 10\n",
    "cv_n_components = 5\n",
    "corr_train = np.zeros((fold, cv_n_components))\n",
    "corr_test = np.zeros_like(corr_train)\n",
    "for i in range(fold):\n",
    "    EEG_train, EEG_test, Sti_train, Sti_test = utils.split(downsampledEEG, normalized_features, fold=fold, fold_idx=i+1)\n",
    "    _, W_train = utils.GCCA_multi_modal([EEG_train, Sti_train], cv_n_components, regularization='lwcov')\n",
    "    W_EEG_train = W_train[:N*D,:]\n",
    "    W_EEG_stack_train = np.reshape(W_EEG_train, (N,D,-1))\n",
    "    W_EEG_stack_train = np.transpose(W_EEG_stack_train, [1,0,2]) # W: D*N*n_components\n",
    "    W_Stim_train = W_train[N*D:N*D+L_timefilter,:]\n",
    "    Wlist_train = [W_EEG_stack_train, W_Stim_train]\n",
    "    corr_train[i,:] = utils.avg_corr_coe_multi_modal([EEG_train, Sti_train], Wlist_train, n_components=5)\n",
    "    corr_test[i,:] = utils.avg_corr_coe_multi_modal([EEG_test, Sti_test], Wlist_train, n_components=5)\n"
   ]
  },
  {
   "cell_type": "code",
   "execution_count": 15,
   "metadata": {},
   "outputs": [
    {
     "data": {
      "text/plain": [
       "array([0.17237445, 0.16662443, 0.1625196 , 0.15965791, 0.15506266])"
      ]
     },
     "execution_count": 15,
     "metadata": {},
     "output_type": "execute_result"
    }
   ],
   "source": [
    "np.average(corr_train, axis=0)"
   ]
  },
  {
   "cell_type": "code",
   "execution_count": 16,
   "metadata": {},
   "outputs": [
    {
     "data": {
      "text/plain": [
       "array([0.03224798, 0.01250905, 0.01286681, 0.00900797, 0.01145189])"
      ]
     },
     "execution_count": 16,
     "metadata": {},
     "output_type": "execute_result"
    }
   ],
   "source": [
    "np.average(corr_test, axis=0)"
   ]
  },
  {
   "cell_type": "markdown",
   "metadata": {},
   "source": [
    "#### If we do not include features"
   ]
  },
  {
   "cell_type": "code",
   "execution_count": 25,
   "metadata": {},
   "outputs": [],
   "source": [
    "fold = 10\n",
    "cv_n_components = 5\n",
    "corr_train = np.zeros((fold, cv_n_components))\n",
    "corr_test = np.zeros_like(corr_train)\n",
    "X_prepro = downsampledEEG\n",
    "T, D, N = X_prepro.shape\n",
    "for i in range(fold):\n",
    "    len_test = T // fold\n",
    "    X_test = X_prepro[len_test*i:len_test*(i+1),:,:]\n",
    "    X_train = np.delete(X_prepro, range(len_test*i, len_test*(i+1)), axis=0)\n",
    "    _, W_train, _ = utils.GCCA(X_train, n_components=cv_n_components, regularization='lwcov')\n",
    "    corr_train[i,:] = utils.avg_corr_coe(X_train, W_train, N, n_components=cv_n_components)\n",
    "    corr_test[i,:] = utils.avg_corr_coe(X_test, W_train, N, n_components=cv_n_components)"
   ]
  },
  {
   "cell_type": "code",
   "execution_count": 26,
   "metadata": {},
   "outputs": [
    {
     "data": {
      "text/plain": [
       "array([0.19235087, 0.18572353, 0.18103591, 0.17796426, 0.17295483])"
      ]
     },
     "execution_count": 26,
     "metadata": {},
     "output_type": "execute_result"
    }
   ],
   "source": [
    "np.average(corr_train, axis=0)"
   ]
  },
  {
   "cell_type": "code",
   "execution_count": 27,
   "metadata": {},
   "outputs": [
    {
     "data": {
      "text/plain": [
       "array([0.03680234, 0.01379785, 0.01454057, 0.01068417, 0.01319305])"
      ]
     },
     "execution_count": 27,
     "metadata": {},
     "output_type": "execute_result"
    }
   ],
   "source": [
    "np.average(corr_test, axis=0)"
   ]
  },
  {
   "cell_type": "markdown",
   "metadata": {},
   "source": [
    "Higher than including stimulus. Quite different when EEG signals are not down sampled."
   ]
  },
  {
   "cell_type": "code",
   "execution_count": null,
   "metadata": {},
   "outputs": [],
   "source": []
  }
 ],
 "metadata": {
  "kernelspec": {
   "display_name": "Python 3.10.6 ('signal')",
   "language": "python",
   "name": "python3"
  },
  "language_info": {
   "codemirror_mode": {
    "name": "ipython",
    "version": 3
   },
   "file_extension": ".py",
   "mimetype": "text/x-python",
   "name": "python",
   "nbconvert_exporter": "python",
   "pygments_lexer": "ipython3",
   "version": "3.10.6"
  },
  "orig_nbformat": 4,
  "vscode": {
   "interpreter": {
    "hash": "e4780ce94013b4ad826834d504b051d615119766f3ac7f8bac99efc1ee879921"
   }
  }
 },
 "nbformat": 4,
 "nbformat_minor": 2
}
