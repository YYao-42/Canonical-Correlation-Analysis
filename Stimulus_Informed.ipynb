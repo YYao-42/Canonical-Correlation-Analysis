{
 "cells": [
  {
   "cell_type": "code",
   "execution_count": null,
   "metadata": {},
   "outputs": [],
   "source": [
    "import mne\n",
    "import scipy\n",
    "import numpy as np\n",
    "import matplotlib.pyplot as plt\n",
    "import pandas as pd\n",
    "import seaborn as sns\n",
    "import utils\n",
    "import algo\n",
    "import os\n",
    "import random\n",
    "import glob\n",
    "import copy\n",
    "import itertools\n",
    "import pickle\n",
    "from findpeaks import findpeaks\n",
    "from tqdm import tqdm\n",
    "from numpy import linalg as LA\n",
    "from scipy.stats import zscore, pearsonr\n",
    "from scipy.io import savemat, loadmat\n",
    "from scipy import signal\n",
    "%matplotlib widget"
   ]
  },
  {
   "cell_type": "code",
   "execution_count": null,
   "metadata": {},
   "outputs": [],
   "source": [
    "subjects = ['AS', 'YY', 'CM', 'SUB1', 'IR', 'SUB2', 'YZ', 'WD', 'CC', 'CW', 'WS', 'VC','HV','JC','DV','CD','JV','KY','KB','SC']\n",
    "fs = 30\n",
    "with open('data/OneShot/features.pkl', 'rb') as f:\n",
    "    features_list = pickle.load(f)\n",
    "with open('data/OneShot/eeg_multisub.pkl', 'rb') as f:\n",
    "    eeg_multisub_list = pickle.load(f)\n",
    "with open('data/OneShot/eog_multisub.pkl', 'rb') as f:\n",
    "    eog_multisub_list = pickle.load(f)\n",
    "with open('data/OneShot/hf_multisub.pkl', 'rb') as f:\n",
    "    hf_multisub_list = pickle.load(f)"
   ]
  },
  {
   "cell_type": "code",
   "execution_count": null,
   "metadata": {},
   "outputs": [],
   "source": [
    "avgflow_list = [feats[:,20] for feats in features_list]\n",
    "avgtempctr_list = [feats[:,21] for feats in features_list]\n",
    "objflow_list = [feats[:,8] for feats in features_list]\n",
    "objtempctr_list = [feats[:,17] for feats in features_list]"
   ]
  },
  {
   "cell_type": "code",
   "execution_count": null,
   "metadata": {},
   "outputs": [],
   "source": [
    "T = sum([F.shape[0] for F in features_list])\n",
    "times = np.array(range(T))/fs\n",
    "n_sub = len(subjects)\n",
    "T/fs/60"
   ]
  },
  {
   "cell_type": "markdown",
   "metadata": {},
   "source": [
    "### ISC versus number of subjects"
   ]
  },
  {
   "cell_type": "code",
   "execution_count": null,
   "metadata": {},
   "outputs": [],
   "source": [
    "def pip_ISC_nb_sub(method, eeg_multisub_list, feature_list, fs, nb_MC=20, fold=5, fold_val=10, trials=True, crs_val=True):\n",
    "    subject_list = range(len(subjects))\n",
    "    corr_mean = []\n",
    "    tsc_mean = []\n",
    "    corr_std = []\n",
    "    tsc_std = []\n",
    "    if crs_val:\n",
    "        filename = 'tables/nb_sub/' + method + '_fold_' + str(fold) +  '_fold_val_' + str(fold_val) + '_MC_' + str(nb_MC) + '.npz'\n",
    "    else:\n",
    "        filename = 'tables/nb_sub/' + method + '_no_cross_val' + '_MC_' + str(nb_MC) + '.npz'\n",
    "    for n_sub in range(5, len(subjects)+1):\n",
    "        print('number of subjects: ', n_sub)\n",
    "        corr_list = []\n",
    "        tsc_list = []\n",
    "        count = 0\n",
    "        comb_list = list(itertools.combinations(subject_list, n_sub))\n",
    "        random.shuffle(comb_list)\n",
    "        for item in comb_list:\n",
    "            count += 1\n",
    "            if count > nb_MC:\n",
    "                break\n",
    "            eeg = [eeg[:,:,list(item)] for eeg in eeg_multisub_list]\n",
    "            nested_datalist = [eeg, feature_list]\n",
    "            Llist = [5, int(fs/2)]\n",
    "            offsetlist = [2, 0]\n",
    "            nested_update, _, _, _  = utils.get_val_set(nested_datalist, fold=fold, fold_val=fold_val, crs_val=crs_val)\n",
    "            if method == 'GCCA':\n",
    "                GCCA = algo.GeneralizedCCA(nested_update[0], fs, L=Llist[0], offset=offsetlist[0], fold=fold, n_components=10, signifi_level=False, message=False, trials=trials, crs_val=crs_val)\n",
    "                _, corr_test, _, _, _, tsc_test, _, _, _, _ = GCCA.cross_val()\n",
    "            elif method == 'SIGCCA':\n",
    "                SI_GCCA = algo.StimulusInformedGCCA(nested_datalist, fs, Llist, offsetlist, fold=fold, n_components=10, signifi_level=False, message=False, trials=trials, crs_val=crs_val)\n",
    "                _, corr_test, _, tsc_test, _, _, _, _, _ = SI_GCCA.cross_val()\n",
    "            elif method == 'CorrCA':\n",
    "                corr_CA = algo.CorrelatedComponentAnalysis(nested_update[0], fs, L=Llist[0], offset=offsetlist[0], fold=fold, n_components=10, signifi_level=False, message=False, trials=trials, crs_val=crs_val)\n",
    "                _, corr_test, _, _,  _, tsc_test, _, _, _, _ = corr_CA.cross_val()\n",
    "            elif method == 'SICorrCA':\n",
    "                SI_CorrCA = algo.StimulusInformedCorrCA(nested_datalist, fs, Llist, offsetlist, fold=fold, n_components=10, signifi_level=False, message=False, trials=trials, crs_val=crs_val)\n",
    "                _, corr_test, _, tsc_test, _, _, _, _, _ = SI_CorrCA.cross_val()\n",
    "            else:\n",
    "                raise ValueError('method not defined')\n",
    "            corr_list.append(corr_test)\n",
    "            tsc_list.append(tsc_test)\n",
    "        corr_all = np.concatenate(tuple(corr_list), axis=0)\n",
    "        tsc_all = np.concatenate(tuple(tsc_list), axis=0)\n",
    "        corr_mean.append(np.mean(corr_all, axis=0))\n",
    "        tsc_mean.append(np.mean(tsc_all))\n",
    "        print('corr_mean: ', np.mean(corr_all, axis=0))\n",
    "        corr_std.append(np.std(corr_all, axis=0))\n",
    "        tsc_std.append(np.std(tsc_all))\n",
    "        np.savez(filename, tsc_mean=tsc_mean, tsc_std=tsc_std, corr_mean=corr_mean, corr_std=corr_std)\n",
    "    return corr_mean, tsc_mean, corr_std, tsc_std"
   ]
  },
  {
   "cell_type": "code",
   "execution_count": null,
   "metadata": {},
   "outputs": [],
   "source": [
    "GCCA_corr_mean, _, GCCA_corr_std, _ = pip_ISC_nb_sub('GCCA', eeg_multisub_list, objflow_list, fs, nb_MC=50, fold_val=20, crs_val=False)"
   ]
  },
  {
   "cell_type": "code",
   "execution_count": null,
   "metadata": {},
   "outputs": [],
   "source": [
    "SIGCCA_corr_mean, _, SIGCCA_corr_std, _ = pip_ISC_nb_sub('SIGCCA', eeg_multisub_list, objflow_list, fs, nb_MC=50, fold_val=20, crs_val=False)"
   ]
  },
  {
   "cell_type": "code",
   "execution_count": null,
   "metadata": {},
   "outputs": [],
   "source": [
    "CorrCA_corr_mean, _, CorrCA_corr_std, _ = pip_ISC_nb_sub('CorrCA', eeg_multisub_list, objflow_list, fs, nb_MC=50, fold_val=20, crs_val=False)"
   ]
  },
  {
   "cell_type": "code",
   "execution_count": null,
   "metadata": {},
   "outputs": [],
   "source": [
    "SICorrCA_corr_mean, _, SICorrCA_corr_std, _ = pip_ISC_nb_sub('SICorrCA', eeg_multisub_list, objflow_list, fs, nb_MC=50, fold_val=20, crs_val=False)"
   ]
  },
  {
   "cell_type": "markdown",
   "metadata": {},
   "source": [
    "### ISC vraus amount of data"
   ]
  },
  {
   "cell_type": "code",
   "execution_count": null,
   "metadata": {},
   "outputs": [],
   "source": [
    "def pip_ISC_am_data(method, eeg_multisub_list, feature_list, fs, nb_MC=20, fold=5, fold_val=10, trials=True, crs_val=True):\n",
    "    eeg_multisub_concat = np.concatenate(tuple(eeg_multisub_list), axis=0)\n",
    "    feature_concat = np.concatenate(tuple(feature_list), axis=0)\n",
    "    nb_samples = eeg_multisub_concat.shape[0]\n",
    "    len_list = np.linspace(10, 55, 10).astype(int)\n",
    "    corr_mean = []\n",
    "    tsc_mean = []\n",
    "    corr_std = []\n",
    "    tsc_std = []\n",
    "    if crs_val:\n",
    "        filename = 'tables/am_data/' + method + '_fold_' + str(fold) +  '_fold_val_' + str(fold_val) + '_MC_' + str(nb_MC) + '.npz'\n",
    "    else:\n",
    "        filename = 'tables/am_data/' + method + '_no_cross_val' + '_MC_' + str(nb_MC) + '.npz'\n",
    "    for length in len_list:\n",
    "        print('amount of data (min): ', length)\n",
    "        len_block = int(length*fs*60/(1-1/fold_val))\n",
    "        idx_end = nb_samples-len_block\n",
    "        corr_list = []\n",
    "        tsc_list = []\n",
    "        for count in range(nb_MC):\n",
    "            start_point = random.randint(0, idx_end)\n",
    "            eeg = [eeg_multisub_concat[start_point:start_point+len_block,:,:]]\n",
    "            feature = [feature_concat[start_point:start_point+len_block]]\n",
    "            nested_datalist = [eeg, feature]\n",
    "            Llist = [5, int(fs/2)]\n",
    "            offsetlist = [2, 0]\n",
    "            nested_update, _, _, _  = utils.get_val_set(nested_datalist, fold=fold, fold_val=fold_val, crs_val=crs_val)\n",
    "            # assert nested_update[0][0].shape[0] == int(length*fs*60)\n",
    "            if method == 'GCCA':\n",
    "                GCCA = algo.GeneralizedCCA(nested_update[0], fs, L=Llist[0], offset=offsetlist[0], fold=fold, n_components=10, signifi_level=False, message=False, trials=trials, crs_val=crs_val)\n",
    "                _, corr_test, _, _, _, tsc_test, _, _, _, _ = GCCA.cross_val()\n",
    "            elif method == 'SIGCCA':\n",
    "                SI_GCCA = algo.StimulusInformedGCCA(nested_datalist, fs, Llist, offsetlist, fold=fold, n_components=10, signifi_level=False, message=False, trials=trials, crs_val=crs_val)\n",
    "                _, corr_test, _, tsc_test, _, _, _, _, _ = SI_GCCA.cross_val()\n",
    "            elif method == 'CorrCA':\n",
    "                corr_CA = algo.CorrelatedComponentAnalysis(nested_update[0], fs, L=Llist[0], offset=offsetlist[0], fold=fold, n_components=10, signifi_level=False, message=False, trials=trials, crs_val=crs_val)\n",
    "                _, corr_test, _, _,  _, tsc_test, _, _, _, _ = corr_CA.cross_val()\n",
    "            elif method == 'SICorrCA':\n",
    "                SI_CorrCA = algo.StimulusInformedCorrCA(nested_datalist, fs, Llist, offsetlist, fold=fold, n_components=10, signifi_level=False, message=False, trials=trials, crs_val=crs_val)\n",
    "                _, corr_test, _, tsc_test, _, _, _, _, _ = SI_CorrCA.cross_val()\n",
    "            else:\n",
    "                raise ValueError('method not defined')\n",
    "            corr_list.append(corr_test)\n",
    "            tsc_list.append(tsc_test)\n",
    "        corr_all = np.concatenate(tuple(corr_list), axis=0)\n",
    "        tsc_all = np.concatenate(tuple(tsc_list), axis=0)\n",
    "        corr_mean.append(np.mean(corr_all, axis=0))\n",
    "        tsc_mean.append(np.mean(tsc_all))\n",
    "        print('corr_mean: ', np.mean(corr_all, axis=0))\n",
    "        corr_std.append(np.std(corr_all, axis=0))\n",
    "        tsc_std.append(np.std(tsc_all))\n",
    "        np.savez(filename, tsc_mean=tsc_mean, tsc_std=tsc_std, corr_mean=corr_mean, corr_std=corr_std)\n",
    "    return corr_mean, tsc_mean, corr_std, tsc_std"
   ]
  },
  {
   "cell_type": "code",
   "execution_count": null,
   "metadata": {},
   "outputs": [],
   "source": [
    "GCCA_corr_mean, _, GCCA_corr_std, _ = pip_ISC_am_data('GCCA', eeg_multisub_list, objflow_list, fs, nb_MC=50, fold_val=20, crs_val=False)"
   ]
  },
  {
   "cell_type": "code",
   "execution_count": null,
   "metadata": {},
   "outputs": [],
   "source": [
    "SIGCCA_corr_mean, _, SIGCCA_corr_std, _  = pip_ISC_am_data('SIGCCA', eeg_multisub_list, objflow_list, fs, nb_MC=50, fold_val=20, crs_val=False)"
   ]
  },
  {
   "cell_type": "code",
   "execution_count": null,
   "metadata": {},
   "outputs": [],
   "source": [
    "CorrCA_corr_mean, _, CorrCA_corr_std, _ = pip_ISC_am_data('CorrCA', eeg_multisub_list, objflow_list, fs, nb_MC=50, fold_val=20, crs_val=False)"
   ]
  },
  {
   "cell_type": "code",
   "execution_count": null,
   "metadata": {},
   "outputs": [],
   "source": [
    "SICorrCA_corr_mean, _, SICorrCA_corr_std, _ = pip_ISC_am_data('SICorrCA', eeg_multisub_list, objflow_list, fs, nb_MC=50, fold_val=20, crs_val=False)"
   ]
  },
  {
   "cell_type": "markdown",
   "metadata": {},
   "source": [
    "### (SI)GCCA followed by backward model"
   ]
  },
  {
   "cell_type": "code",
   "execution_count": null,
   "metadata": {},
   "outputs": [],
   "source": [
    "def pipe_GCCA_backward(method, nested_datalist, fs=30, fold=5, fold_val=10, n_components=35, trials=True, crs_val=False, rho=None):\n",
    "    nested_update, _, _, _  = utils.get_val_set(nested_datalist, fold=fold, fold_val=fold_val, crs_val=crs_val)\n",
    "    corr = []\n",
    "    if method == 'GCCA':\n",
    "        algorithm = algo.GeneralizedCCA(nested_update[0], fs, L=5, offset=2, fold=fold, n_components=n_components, signifi_level=True, message=True, trials=trials, crs_val=False)\n",
    "        train_list, test_list, _, _ = utils.split_mm_balance(nested_update, fold=fold, fold_idx=fold)\n",
    "        W_train, S, _, _ = algorithm.fit(train_list[0])\n",
    "        if trials:\n",
    "            test_trials = utils.into_trials(test_list[0], fs)\n",
    "            ISC, _, _, _ = algorithm.avg_stats_trials(test_trials, W_train)\n",
    "        else:\n",
    "            ISC, _, _, _ = algorithm.avg_stats(test_list[0], W_train)\n",
    "    elif method == 'CorrCA':\n",
    "        algorithm = algo.CorrelatedComponentAnalysis(nested_update[0], fs, L=5, offset=2, fold=fold, n_components=n_components, signifi_level=True, message=trials, trials=True, crs_val=False)\n",
    "        train_list, test_list, _, _ = utils.split_mm_balance(nested_update, fold=fold, fold_idx=fold)\n",
    "        _, W_train, S, _ = algorithm.fit(train_list[0])\n",
    "        if trials:\n",
    "            test_trials = utils.into_trials(test_list[0], fs)\n",
    "            ISC, _, _, _ = algorithm.avg_stats_trials(test_trials, W_train)\n",
    "        else:\n",
    "            ISC, _, _, _ = algorithm.avg_stats(test_list[0], W_train)\n",
    "    elif method == 'SIGCCA':\n",
    "        algorithm = algo.StimulusInformedGCCA(nested_datalist, fs, Llist=[5,int(fs/2)], offsetlist=[2,0], fold=fold, n_components=n_components, signifi_level=trials, message=True, trials=True, crs_val=False)\n",
    "        if rho is None:\n",
    "            rho, nested_update = algorithm.rho_sweep()\n",
    "        train_list, test_list, _, _ = utils.split_mm_balance(nested_update, fold=fold, fold_idx=fold)\n",
    "        Wlist_train, S, _, _ = algorithm.fit(train_list, rho)\n",
    "        if trials:\n",
    "            mod_trials = [utils.into_trials(mod, fs) for mod in test_list]\n",
    "            test_trails = [[mod[idx_trial] for mod in mod_trials] for idx_trial in range(len(mod_trials[0]))]\n",
    "            ISC, _, _  = algorithm.avg_corr_coe_trials(test_trails, Wlist_train)\n",
    "        else:\n",
    "            ISC, _, _  = algorithm.avg_corr_coe(test_list, Wlist_train)\n",
    "    elif method == 'SICorrCA':\n",
    "        algorithm = algo.StimulusInformedCorrCA(nested_datalist, fs, Llist=[5,int(fs/2)], offsetlist=[2,0], fold=fold, n_components=n_components, signifi_level=trials, message=True, trials=True, crs_val=False)\n",
    "        if rho is None:\n",
    "            rho, nested_update = algorithm.rho_sweep()\n",
    "        train_list, test_list, _, _ = utils.split_mm_balance(nested_update, fold=fold, fold_idx=fold)\n",
    "        Wlist_train, S, _, _= algorithm.fit(train_list, rho)\n",
    "        if trials:\n",
    "            mod_trials = [utils.into_trials(mod, fs) for mod in test_list]\n",
    "            test_trails = [[mod[idx_trial] for mod in mod_trials] for idx_trial in range(len(mod_trials[0]))]\n",
    "            ISC, _, _  = algorithm.avg_corr_coe_trials(test_trails, Wlist_train)\n",
    "        else:\n",
    "            ISC, _, _  = algorithm.avg_corr_coe(test_list, Wlist_train)\n",
    "    else:\n",
    "        raise ValueError('method not supported')\n",
    "    for comp in range(n_components):\n",
    "        nth_component = S[:, comp]\n",
    "        LS = algo.LeastSquares(nth_component, train_list[1], fs, decoding=True, L_EEG=10, offset_EEG=8)\n",
    "        Wb_train, _ = LS.decoder(nth_component, train_list[1])\n",
    "        if method == 'GCCA' or method == 'CorrCA':\n",
    "            test_trans = np.mean(algorithm.get_transformed_data(test_list[0], W_train), axis=2)\n",
    "        else:\n",
    "            test_trans_list = algorithm.get_transformed_data(test_list, Wlist_train)\n",
    "            test_trans = np.mean(test_trans_list[0], axis=2)\n",
    "        _, filtered_EEG = LS.decoder(test_trans[:, comp], test_list[1], W_b=Wb_train)\n",
    "        corr.append(pearsonr(np.squeeze(filtered_EEG), np.squeeze(test_list[1]))[0])\n",
    "    for comp in range(1, n_components+1):\n",
    "        ncomponents = S[:, :comp]\n",
    "        LS = algo.LeastSquares(ncomponents, train_list[1], fs, decoding=True, L_EEG=10, offset_EEG=8)\n",
    "        Wb_train, _ = LS.decoder(ncomponents, train_list[1])\n",
    "        if method == 'GCCA' or method == 'CorrCA':\n",
    "            test_trans = np.mean(algorithm.get_transformed_data(test_list[0], W_train), axis=2)\n",
    "        else:\n",
    "            test_trans_list = algorithm.get_transformed_data(test_list, Wlist_train)\n",
    "            test_trans = np.mean(test_trans_list[0], axis=2)\n",
    "        _, filtered_EEG = LS.decoder(test_trans[:, :comp], test_list[1], W_b=Wb_train)\n",
    "        corr.append(pearsonr(np.squeeze(filtered_EEG), np.squeeze(test_list[1]))[0])\n",
    "    return corr, ISC"
   ]
  },
  {
   "cell_type": "code",
   "execution_count": null,
   "metadata": {},
   "outputs": [],
   "source": [
    "method = 'GCCA'\n",
    "eeg_partsub_list = [eeg[:,:,:5] for eeg in eeg_multisub_list]\n",
    "nested_datalist = [eeg_partsub_list, objflow_list]\n",
    "# nested_datalist = [eeg_multisub_list, objflow_list]\n",
    "corr_GCCA, ISC_GCCA = pipe_GCCA_backward(method, nested_datalist, n_components=35)"
   ]
  },
  {
   "cell_type": "code",
   "execution_count": null,
   "metadata": {},
   "outputs": [],
   "source": [
    "method = 'CorrCA'\n",
    "eeg_partsub_list = [eeg[:,:,:7] for eeg in eeg_multisub_list]\n",
    "nested_datalist = [eeg_partsub_list, objflow_list]\n",
    "# nested_datalist = [eeg_multisub_list, objflow_list]\n",
    "corr_CorrCA, ISC_CorrCA = pipe_GCCA_backward(method, nested_datalist, n_components=35)"
   ]
  },
  {
   "cell_type": "code",
   "execution_count": null,
   "metadata": {},
   "outputs": [],
   "source": [
    "method = 'SIGCCA'\n",
    "eeg_partsub_list = [eeg[:,:,:7] for eeg in eeg_multisub_list]\n",
    "nested_datalist = [eeg_partsub_list, objflow_list]\n",
    "# nested_datalist = [eeg_multisub_list, objflow_list]\n",
    "corr_SIGCCA, ISC_SIGCCA = pipe_GCCA_backward(method, nested_datalist, n_components=35)\n",
    "# corr_SIGCCA_rho1, ISC_SIGCCA_rho1 = pipe_GCCA_backward(method, nested_datalist, n_components=35, rho=1)"
   ]
  },
  {
   "cell_type": "code",
   "execution_count": null,
   "metadata": {},
   "outputs": [],
   "source": [
    "method = 'SICorrCA'\n",
    "eeg_partsub_list = [eeg[:,:,:7] for eeg in eeg_multisub_list]\n",
    "# nested_datalist = [eeg_partsub_list, objflow_list]\n",
    "nested_datalist = [eeg_multisub_list, objflow_list]\n",
    "corr_SICorrCA, ISC_SICorrCA = pipe_GCCA_backward(method, nested_datalist, n_components=35)\n",
    "# corr_SICorrCA_rho1, ISC_SICorrCA_rho1 = pipe_GCCA_backward(method, nested_datalist, n_components=35, rho=1)"
   ]
  },
  {
   "cell_type": "code",
   "execution_count": null,
   "metadata": {},
   "outputs": [],
   "source": [
    "plt.close()\n",
    "plt.plot(corr_GCCA[:35], label='GCCA')\n",
    "plt.plot(corr_SIGCCA[:35], label='SIGCCA')\n",
    "plt.xlabel('Component')\n",
    "plt.ylabel('Stim corr ind')\n",
    "plt.legend()\n",
    "plt.show()\n"
   ]
  },
  {
   "cell_type": "code",
   "execution_count": null,
   "metadata": {},
   "outputs": [],
   "source": [
    "plt.close()\n",
    "xaxis = range(1, 36)\n",
    "plt.plot(xaxis, corr_GCCA[35:], label='GCCA')\n",
    "plt.plot(xaxis, corr_SIGCCA[35:], label='SIGCCA')\n",
    "plt.xlabel('Number of components')\n",
    "plt.ylabel('Stim corr subspace')\n",
    "plt.legend()\n",
    "plt.show()"
   ]
  },
  {
   "cell_type": "code",
   "execution_count": null,
   "metadata": {},
   "outputs": [],
   "source": []
  }
 ],
 "metadata": {
  "kernelspec": {
   "display_name": "signal",
   "language": "python",
   "name": "python3"
  },
  "language_info": {
   "codemirror_mode": {
    "name": "ipython",
    "version": 3
   },
   "file_extension": ".py",
   "mimetype": "text/x-python",
   "name": "python",
   "nbconvert_exporter": "python",
   "pygments_lexer": "ipython3",
   "version": "3.10.6"
  },
  "orig_nbformat": 4
 },
 "nbformat": 4,
 "nbformat_minor": 2
}
