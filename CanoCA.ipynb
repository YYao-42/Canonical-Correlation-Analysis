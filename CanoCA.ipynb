{
 "cells": [
  {
   "cell_type": "code",
   "execution_count": 35,
   "metadata": {},
   "outputs": [],
   "source": [
    "import scipy.io\n",
    "import numpy as np\n",
    "import matplotlib.pyplot as plt\n",
    "import os\n",
    "from numpy import linalg as LA\n",
    "from utils import cano_corr, shuffle_block, permutation_test, convolution_mtx, split, leave_one_fold_out\n",
    "from scipy import signal\n",
    "from scipy.linalg import toeplitz\n",
    "from scipy.stats import zscore, pearsonr"
   ]
  },
  {
   "cell_type": "code",
   "execution_count": 36,
   "metadata": {},
   "outputs": [],
   "source": [
    "data = scipy.io.loadmat('Matlab version/sampleData.mat')"
   ]
  },
  {
   "cell_type": "code",
   "execution_count": 37,
   "metadata": {},
   "outputs": [],
   "source": [
    "fsEEG = int(data['fsEEG'])\n",
    "fsStim = int(data['fsStim'])\n",
    "sampleEEG = data['sampleEEG']\n",
    "sampleFeature = np.squeeze(data['sampleFeature'])"
   ]
  },
  {
   "cell_type": "code",
   "execution_count": 38,
   "metadata": {},
   "outputs": [],
   "source": [
    "downsampledEEG = signal.resample_poly(sampleEEG, fsStim, fsEEG)\n",
    "sampleFeature = sampleFeature[:downsampledEEG.shape[0]]\n",
    "normalized_sampleFeature = zscore(sampleFeature)"
   ]
  },
  {
   "cell_type": "code",
   "execution_count": 39,
   "metadata": {},
   "outputs": [],
   "source": [
    "L_timefilter = fsStim\n",
    "conv_mtx = convolution_mtx(L_timefilter, normalized_sampleFeature)"
   ]
  },
  {
   "cell_type": "code",
   "execution_count": 40,
   "metadata": {},
   "outputs": [],
   "source": [
    "corr_coe, p_value, V_A, V_B = cano_corr(downsampledEEG, conv_mtx)"
   ]
  },
  {
   "cell_type": "code",
   "execution_count": 41,
   "metadata": {},
   "outputs": [
    {
     "data": {
      "text/plain": [
       "array([-0.15555451, -0.07868894,  0.0285153 , -0.02611474,  0.0131076 ,\n",
       "       -0.00543612,  0.00255113])"
      ]
     },
     "execution_count": 41,
     "metadata": {},
     "output_type": "execute_result"
    }
   ],
   "source": [
    "corr_coe"
   ]
  },
  {
   "cell_type": "code",
   "execution_count": 42,
   "metadata": {},
   "outputs": [
    {
     "data": {
      "text/plain": [
       "array([1.48668512e-43, 3.19967909e-12, 1.16722649e-02, 2.09147944e-02,\n",
       "       2.46434133e-01, 6.30745366e-01, 8.21530108e-01])"
      ]
     },
     "execution_count": 42,
     "metadata": {},
     "output_type": "execute_result"
    }
   ],
   "source": [
    "p_value"
   ]
  },
  {
   "cell_type": "code",
   "execution_count": 47,
   "metadata": {},
   "outputs": [
    {
     "name": "stderr",
     "output_type": "stream",
     "text": [
      "100%|██████████████████████████████████████████████████████████████████████████████| 1000/1000 [00:13<00:00, 75.34it/s]\n"
     ]
    }
   ],
   "source": [
    "num_test = 1000\n",
    "corr_coe_topK = permutation_test(downsampledEEG, normalized_sampleFeature, num_test=num_test, t=1, fs=fsStim, topK=5)"
   ]
  },
  {
   "cell_type": "code",
   "execution_count": 49,
   "metadata": {},
   "outputs": [
    {
     "name": "stdout",
     "output_type": "stream",
     "text": [
      "Component 2, top 0.7000000000000001%\n"
     ]
    },
    {
     "data": {
      "text/plain": [
       "[<matplotlib.lines.Line2D at 0x214cdef8460>]"
      ]
     },
     "execution_count": 49,
     "metadata": {},
     "output_type": "execute_result"
    },
    {
     "data": {
      "image/png": "[encoded data removed]",
      "text/plain": [
       "<Figure size 640x480 with 1 Axes>"
      ]
     },
     "metadata": {},
     "output_type": "display_data"
    }
   ],
   "source": [
    "compo = 2\n",
    "corr_coe_list = corr_coe_topK[:,compo-1]\n",
    "signifi = sum(np.abs(corr_coe_topK[:,compo-1])>np.abs(corr_coe[compo-1]))/num_test*100\n",
    "print(\"Component {compo}, top {signifi}%\".format(compo=compo, signifi=signifi))\n",
    "plt.hist(corr_coe_topK[:,compo-1])\n",
    "plt.title('Permutation test: Example-'+'Component #'+str(compo))\n",
    "plt.xlabel('corr')\n",
    "plt.plot(corr_coe[compo-1], 0, marker=\"o\", markersize=10)"
   ]
  },
  {
   "cell_type": "code",
   "execution_count": 53,
   "metadata": {},
   "outputs": [],
   "source": [
    "K_regu = 7\n",
    "fold = 10\n",
    "fold_idx = 1\n",
    "corr_coe_train, corr_pvalue = leave_one_fold_out(downsampledEEG, normalized_sampleFeature, L_timefilter, K_regu=K_regu, fold=fold, fold_idx=fold_idx)"
   ]
  },
  {
   "cell_type": "code",
   "execution_count": 54,
   "metadata": {},
   "outputs": [
    {
     "data": {
      "text/plain": [
       "array([-0.15339401,  0.08862426, -0.03366652, -0.02147356, -0.01242458,\n",
       "       -0.00828343, -0.00159724])"
      ]
     },
     "execution_count": 54,
     "metadata": {},
     "output_type": "execute_result"
    }
   ],
   "source": [
    "corr_coe_train"
   ]
  },
  {
   "cell_type": "code",
   "execution_count": 55,
   "metadata": {},
   "outputs": [
    {
     "data": {
      "text/plain": [
       "[(-0.1948303380535144, 3.967632337679183e-08),\n",
       " (-0.022381517828606968, 0.5319974780891873),\n",
       " (0.07036882573899625, 0.04917128026737254),\n",
       " (-0.03721149780017788, 0.2986710509344591),\n",
       " (-0.021417048061249742, 0.5498249127680528),\n",
       " (0.033245608961999434, 0.3531698167198499),\n",
       " (-0.025713473699093985, 0.4727407470241843)]"
      ]
     },
     "execution_count": 55,
     "metadata": {},
     "output_type": "execute_result"
    }
   ],
   "source": [
    "corr_pvalue"
   ]
  },
  {
   "cell_type": "code",
   "execution_count": 56,
   "metadata": {},
   "outputs": [
    {
     "data": {
      "text/plain": [
       "array([0.12286719, 0.03347225, 0.07435749, 0.04450961, 0.03008827,\n",
       "       0.01541036, 0.02902152])"
      ]
     },
     "execution_count": 56,
     "metadata": {},
     "output_type": "execute_result"
    }
   ],
   "source": [
    "corr_coe_avg = np.zeros_like(corr_coe_train)\n",
    "for idx in range(fold):\n",
    "    _, corr_pvalue = leave_one_fold_out(downsampledEEG, normalized_sampleFeature, L_timefilter, K_regu=K_regu, fold=fold, fold_idx=idx+1)\n",
    "    corr_coe_avg = corr_coe_avg + np.abs(np.array([corr_pvalue[k][0] for k in range(K_regu)]))\n",
    "corr_coe_avg = corr_coe_avg/fold\n",
    "corr_coe_avg"
   ]
  },
  {
   "cell_type": "code",
   "execution_count": null,
   "metadata": {},
   "outputs": [],
   "source": []
  }
 ],
 "metadata": {
  "kernelspec": {
   "display_name": "Python 3 (ipykernel)",
   "language": "python",
   "name": "python3"
  },
  "language_info": {
   "codemirror_mode": {
    "name": "ipython",
    "version": 3
   },
   "file_extension": ".py",
   "mimetype": "text/x-python",
   "name": "python",
   "nbconvert_exporter": "python",
   "pygments_lexer": "ipython3",
   "version": "3.10.6"
  },
  "vscode": {
   "interpreter": {
    "hash": "d6ca5f38883b0db8bfe4124a33c655e5354cca79f3fe174b9fd150f2de2f9bf9"
   }
  }
 },
 "nbformat": 4,
 "nbformat_minor": 2
}
