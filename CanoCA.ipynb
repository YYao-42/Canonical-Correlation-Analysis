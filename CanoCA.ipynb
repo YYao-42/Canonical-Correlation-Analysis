{
 "cells": [
  {
   "cell_type": "code",
   "execution_count": 56,
   "metadata": {},
   "outputs": [],
   "source": [
    "import scipy.io\n",
    "import numpy as np\n",
    "import matplotlib.pyplot as plt\n",
    "import os\n",
    "from numpy import linalg as LA\n",
    "from utils import cano_corr, shuffle_block, permutation_test, convolution_mtx, split, leave_one_fold_out\n",
    "from scipy import signal\n",
    "from scipy.linalg import toeplitz\n",
    "from scipy.stats import zscore, pearsonr"
   ]
  },
  {
   "cell_type": "code",
   "execution_count": 57,
   "metadata": {},
   "outputs": [],
   "source": [
    "data = scipy.io.loadmat('Matlab_version/sampleData.mat')"
   ]
  },
  {
   "cell_type": "code",
   "execution_count": 58,
   "metadata": {},
   "outputs": [],
   "source": [
    "fsEEG = int(data['fsEEG'])\n",
    "fsStim = int(data['fsStim'])\n",
    "sampleEEG = data['sampleEEG']\n",
    "sampleFeature = np.squeeze(data['sampleFeature'])"
   ]
  },
  {
   "cell_type": "code",
   "execution_count": 59,
   "metadata": {},
   "outputs": [],
   "source": [
    "downsampledEEG = signal.resample_poly(sampleEEG, fsStim, fsEEG)\n",
    "sampleFeature = sampleFeature[:downsampledEEG.shape[0]]\n",
    "normalized_sampleFeature = zscore(sampleFeature)"
   ]
  },
  {
   "cell_type": "code",
   "execution_count": 60,
   "metadata": {},
   "outputs": [],
   "source": [
    "L_timefilter = fsStim\n",
    "conv_mtx = convolution_mtx(L_timefilter, normalized_sampleFeature)"
   ]
  },
  {
   "cell_type": "code",
   "execution_count": 61,
   "metadata": {},
   "outputs": [],
   "source": [
    "corr_coe, p_value, V_A, V_B = cano_corr(downsampledEEG, conv_mtx)"
   ]
  },
  {
   "cell_type": "code",
   "execution_count": 62,
   "metadata": {},
   "outputs": [
    {
     "data": {
      "text/plain": [
       "array([0.15555451, 0.07868894, 0.0285153 , 0.02611474, 0.0131076 ,\n",
       "       0.00543612, 0.00255113])"
      ]
     },
     "execution_count": 62,
     "metadata": {},
     "output_type": "execute_result"
    }
   ],
   "source": [
    "corr_coe"
   ]
  },
  {
   "cell_type": "code",
   "execution_count": 63,
   "metadata": {},
   "outputs": [
    {
     "data": {
      "text/plain": [
       "array([1.48668512e-43, 3.19967909e-12, 1.16722649e-02, 2.09147944e-02,\n",
       "       2.46434133e-01, 6.30745366e-01, 8.21530108e-01])"
      ]
     },
     "execution_count": 63,
     "metadata": {},
     "output_type": "execute_result"
    }
   ],
   "source": [
    "p_value"
   ]
  },
  {
   "cell_type": "code",
   "execution_count": 64,
   "metadata": {},
   "outputs": [
    {
     "name": "stderr",
     "output_type": "stream",
     "text": [
      "100%|██████████| 1000/1000 [00:05<00:00, 189.48it/s]\n"
     ]
    }
   ],
   "source": [
    "num_test = 1000\n",
    "# Use this then the linear transformations will be generated again based on the permuted data\n",
    "# The correlation coefficients will not be around zero [because of overfitting?]\n",
    "# corr_coe_topK = permutation_test(downsampledEEG, normalized_sampleFeature, num_test=num_test, t=1, fs=fsStim, topK=5)\n",
    "\n",
    "# Use this then V_A and V_B obtained before will be applied to the permuted data directly\n",
    "# The correlation coefficients will be around zero\n",
    "corr_coe_topK = permutation_test(downsampledEEG, normalized_sampleFeature, num_test=num_test, t=1, fs=fsStim, topK=5, V_A=V_A, V_B=V_B)"
   ]
  },
  {
   "cell_type": "code",
   "execution_count": 65,
   "metadata": {},
   "outputs": [
    {
     "name": "stdout",
     "output_type": "stream",
     "text": [
      "Component 2, top 0.0%\n"
     ]
    },
    {
     "data": {
      "text/plain": [
       "[<matplotlib.lines.Line2D at 0x1873fa241c0>]"
      ]
     },
     "execution_count": 65,
     "metadata": {},
     "output_type": "execute_result"
    },
    {
     "data": {
      "image/png": "[encoded data removed]",
      "text/plain": [
       "<Figure size 640x480 with 1 Axes>"
      ]
     },
     "metadata": {},
     "output_type": "display_data"
    }
   ],
   "source": [
    "compo = 2\n",
    "corr_coe_list = corr_coe_topK[:,compo-1]\n",
    "signifi = sum(corr_coe_topK[:,compo-1]>corr_coe[compo-1])/num_test*100\n",
    "print(\"Component {compo}, top {signifi}%\".format(compo=compo, signifi=signifi))\n",
    "plt.hist(corr_coe_topK[:,compo-1])\n",
    "plt.title('Permutation test: Example-'+'Component #'+str(compo))\n",
    "plt.xlabel('corr')\n",
    "plt.plot(corr_coe[compo-1], 0, marker=\"o\", markersize=10)"
   ]
  },
  {
   "cell_type": "code",
   "execution_count": 66,
   "metadata": {},
   "outputs": [],
   "source": [
    "K_regu = 7\n",
    "fold = 10\n",
    "fold_idx = 1\n",
    "corr_coe_train, corr_pvalue = leave_one_fold_out(downsampledEEG, normalized_sampleFeature, L_timefilter, K_regu=K_regu, fold=fold, fold_idx=fold_idx)"
   ]
  },
  {
   "cell_type": "code",
   "execution_count": 67,
   "metadata": {},
   "outputs": [
    {
     "data": {
      "text/plain": [
       "array([0.15339401, 0.08862426, 0.03366652, 0.02147356, 0.01242458,\n",
       "       0.00828343, 0.00159724])"
      ]
     },
     "execution_count": 67,
     "metadata": {},
     "output_type": "execute_result"
    }
   ],
   "source": [
    "corr_coe_train"
   ]
  },
  {
   "cell_type": "code",
   "execution_count": 68,
   "metadata": {},
   "outputs": [
    {
     "data": {
      "text/plain": [
       "[(0.1948303380535144, 3.967632337679183e-08),\n",
       " (-0.022381517828606968, 0.5319974780891873),\n",
       " (-0.07036882573899625, 0.04917128026737254),\n",
       " (0.03721149780017788, 0.2986710509344591),\n",
       " (0.021417048061249742, 0.5498249127680528),\n",
       " (-0.033245608961999434, 0.3531698167198499),\n",
       " (0.025713473699093985, 0.4727407470241843)]"
      ]
     },
     "execution_count": 68,
     "metadata": {},
     "output_type": "execute_result"
    }
   ],
   "source": [
    "corr_pvalue"
   ]
  },
  {
   "cell_type": "code",
   "execution_count": 69,
   "metadata": {},
   "outputs": [
    {
     "data": {
      "text/plain": [
       "array([ 0.12286719,  0.00521724, -0.07435749,  0.03349822, -0.00775818,\n",
       "       -0.00387898,  0.01256763])"
      ]
     },
     "execution_count": 69,
     "metadata": {},
     "output_type": "execute_result"
    }
   ],
   "source": [
    "corr_coe_avg = np.zeros_like(corr_coe_train)\n",
    "for idx in range(fold):\n",
    "    _, corr_pvalue = leave_one_fold_out(downsampledEEG, normalized_sampleFeature, L_timefilter, K_regu=K_regu, fold=fold, fold_idx=idx+1)\n",
    "    corr_coe_avg = corr_coe_avg + np.array([corr_pvalue[k][0] for k in range(K_regu)])\n",
    "corr_coe_avg = corr_coe_avg/fold\n",
    "corr_coe_avg"
   ]
  },
  {
   "cell_type": "code",
   "execution_count": null,
   "metadata": {},
   "outputs": [],
   "source": []
  }
 ],
 "metadata": {
  "kernelspec": {
   "display_name": "Python 3.10.6 ('signal')",
   "language": "python",
   "name": "python3"
  },
  "language_info": {
   "codemirror_mode": {
    "name": "ipython",
    "version": 3
   },
   "file_extension": ".py",
   "mimetype": "text/x-python",
   "name": "python",
   "nbconvert_exporter": "python",
   "pygments_lexer": "ipython3",
   "version": "3.10.6"
  },
  "vscode": {
   "interpreter": {
    "hash": "e4780ce94013b4ad826834d504b051d615119766f3ac7f8bac99efc1ee879921"
   }
  }
 },
 "nbformat": 4,
 "nbformat_minor": 4
}
