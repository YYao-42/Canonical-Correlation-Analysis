{
 "cells": [
  {
   "cell_type": "code",
   "execution_count": 38,
   "metadata": {},
   "outputs": [],
   "source": [
    "import scipy.io\n",
    "import numpy as np\n",
    "import matplotlib.pyplot as plt\n",
    "import os\n",
    "from utils import GCCA, shuffle_block, data_superbowl\n",
    "from sklearn.covariance import LedoitWolf\n",
    "from numpy import linalg as LA\n",
    "from scipy import signal\n",
    "from tqdm import tqdm"
   ]
  },
  {
   "cell_type": "code",
   "execution_count": 39,
   "metadata": {},
   "outputs": [],
   "source": [
    "# data = scipy.io.loadmat('../Correlated Component Analysis/data/Prepro_EEG.mat')\n",
    "# X_prepro = data['X']\n",
    "# fs = 256\n",
    "# T, D, N = X_prepro.shape"
   ]
  },
  {
   "cell_type": "code",
   "execution_count": 40,
   "metadata": {},
   "outputs": [],
   "source": [
    "head = '../Correlated Component Analysis/data'\n",
    "datatype = 'preprocessed'\n",
    "year = '2012'\n",
    "view = 'Y1'\n",
    "X_prepro, fs = data_superbowl(head=head, datatype=datatype, year=year, view=view)\n",
    "T, D, N = X_prepro.shape"
   ]
  },
  {
   "cell_type": "code",
   "execution_count": 41,
   "metadata": {},
   "outputs": [
    {
     "data": {
      "text/plain": [
       "array([0.35324445, 0.50503075, 0.54189938, 0.54601794, 0.54769649])"
      ]
     },
     "execution_count": 41,
     "metadata": {},
     "output_type": "execute_result"
    }
   ],
   "source": [
    "lam, W = GCCA(X_prepro, n_components=5, regularization='lwcov')\n",
    "lam"
   ]
  },
  {
   "cell_type": "markdown",
   "metadata": {},
   "source": [
    "### Permutation Test"
   ]
  },
  {
   "cell_type": "code",
   "execution_count": 42,
   "metadata": {},
   "outputs": [
    {
     "name": "stderr",
     "output_type": "stream",
     "text": [
      "100%|██████████| 100/100 [07:14<00:00,  4.34s/it]\n"
     ]
    }
   ],
   "source": [
    "num_test = 100\n",
    "n_components = 5\n",
    "lam_topK = np.empty((0, n_components))\n",
    "for i in tqdm(range(num_test)):\n",
    "    X_shuffled = shuffle_block(X_prepro, t=1, fs=fs)\n",
    "    lam_permu, _ = GCCA(X_shuffled, n_components=n_components, regularization='lwcov')\n",
    "    lam_topK = np.concatenate((lam_topK, np.expand_dims(lam_permu[:n_components], axis=0)), axis=0)\n"
   ]
  },
  {
   "cell_type": "code",
   "execution_count": 50,
   "metadata": {},
   "outputs": [
    {
     "name": "stdout",
     "output_type": "stream",
     "text": [
      "Component 3, top 0.0%\n"
     ]
    },
    {
     "data": {
      "text/plain": [
       "[<matplotlib.lines.Line2D at 0x1e845561300>]"
      ]
     },
     "execution_count": 50,
     "metadata": {},
     "output_type": "execute_result"
    },
    {
     "data": {
      "image/png": "[encoded data removed]",
      "text/plain": [
       "<Figure size 640x480 with 1 Axes>"
      ]
     },
     "metadata": {},
     "output_type": "display_data"
    }
   ],
   "source": [
    "compo = 3\n",
    "signifi = sum(lam_topK[:,compo-1]<lam[compo-1])/num_test*100\n",
    "print(\"Component {compo}, top {signifi}%\".format(compo=compo, signifi=signifi))\n",
    "plt.hist(lam_topK[:,compo-1])\n",
    "# plt.title('Permutation test: Example-'+'Component #'+str(compo))\n",
    "plt.title('Permutation test: Superbowl-'+datatype+'-'+year+'-'+view+'-'+'Component #'+str(compo))\n",
    "plt.xlabel('lambda')\n",
    "plt.plot(lam[compo-1], 0, marker=\"o\", markersize=10)"
   ]
  },
  {
   "cell_type": "markdown",
   "metadata": {},
   "source": [
    "### Cross-validation"
   ]
  },
  {
   "cell_type": "code",
   "execution_count": 44,
   "metadata": {},
   "outputs": [],
   "source": [
    "fold = 10\n",
    "n_components = 5\n",
    "lam_train = np.zeros((fold, n_components))\n",
    "lam_test = np.zeros_like(lam_train)\n",
    "T, D, N = X_prepro.shape\n",
    "for i in range(fold):\n",
    "    len_test = T // fold\n",
    "    X_test = X_prepro[len_test*i:len_test*(i+1),:,:]\n",
    "    X_train = np.delete(X_prepro, range(len_test*i, len_test*(i+1)), axis=0)\n",
    "    lam_train[i,:], W_train = GCCA(X_train, n_components=n_components, regularization='lwcov')\n",
    "    X_test_list = [X_test[:,:,n] for n in range(N)]\n",
    "    X_test_flatten = np.concatenate(tuple(X_test_list), axis=1)\n",
    "    Rxx = LedoitWolf().fit(X_test_flatten).covariance_\n",
    "    Dxx = np.zeros_like(Rxx)\n",
    "    for n in range(N):\n",
    "        Dxx[n*D:(n+1)*D,n*D:(n+1)*D] = Rxx[n*D:(n+1)*D,n*D:(n+1)*D]\n",
    "    lam_test[i,:] = np.diag(np.transpose(W_train)@Dxx@W_train)\n"
   ]
  },
  {
   "cell_type": "code",
   "execution_count": 45,
   "metadata": {},
   "outputs": [
    {
     "data": {
      "text/plain": [
       "array([0.35035013, 0.49648102, 0.52588771, 0.53018233, 0.53504335])"
      ]
     },
     "execution_count": 45,
     "metadata": {},
     "output_type": "execute_result"
    }
   ],
   "source": [
    "np.mean(lam_train, axis=0)"
   ]
  },
  {
   "cell_type": "code",
   "execution_count": 46,
   "metadata": {},
   "outputs": [
    {
     "data": {
      "text/plain": [
       "array([0.36489234, 0.65544617, 0.90047975, 0.62859618, 0.64454499])"
      ]
     },
     "execution_count": 46,
     "metadata": {},
     "output_type": "execute_result"
    }
   ],
   "source": [
    "np.mean(lam_test, axis=0)"
   ]
  },
  {
   "cell_type": "code",
   "execution_count": null,
   "metadata": {},
   "outputs": [],
   "source": []
  }
 ],
 "metadata": {
  "kernelspec": {
   "display_name": "Python 3.10.6 ('signal')",
   "language": "python",
   "name": "python3"
  },
  "language_info": {
   "codemirror_mode": {
    "name": "ipython",
    "version": 3
   },
   "file_extension": ".py",
   "mimetype": "text/x-python",
   "name": "python",
   "nbconvert_exporter": "python",
   "pygments_lexer": "ipython3",
   "version": "3.10.6"
  },
  "orig_nbformat": 4,
  "vscode": {
   "interpreter": {
    "hash": "e4780ce94013b4ad826834d504b051d615119766f3ac7f8bac99efc1ee879921"
   }
  }
 },
 "nbformat": 4,
 "nbformat_minor": 2
}
