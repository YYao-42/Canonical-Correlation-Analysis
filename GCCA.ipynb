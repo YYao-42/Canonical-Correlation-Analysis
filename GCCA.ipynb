{
 "cells": [
  {
   "cell_type": "code",
   "execution_count": 1,
   "metadata": {},
   "outputs": [],
   "source": [
    "import scipy.io\n",
    "import numpy as np\n",
    "import matplotlib.pyplot as plt\n",
    "import os\n",
    "from utils import GCCA, shuffle_block, data_superbowl, corr_component, avg_corr_coe\n",
    "from sklearn.covariance import LedoitWolf\n",
    "from numpy import linalg as LA\n",
    "from scipy import signal\n",
    "from tqdm import tqdm"
   ]
  },
  {
   "cell_type": "code",
   "execution_count": 2,
   "metadata": {},
   "outputs": [],
   "source": [
    "data = scipy.io.loadmat('../Correlated Component Analysis/data/Prepro_EEG.mat')\n",
    "X_prepro = data['X']\n",
    "fs = 256\n",
    "T, D, N = X_prepro.shape"
   ]
  },
  {
   "cell_type": "code",
   "execution_count": 3,
   "metadata": {},
   "outputs": [],
   "source": [
    "head = '../Correlated Component Analysis/data'\n",
    "datatype = 'preprocessed'\n",
    "year = '2013'\n",
    "view = 'Y2'\n",
    "X_prepro, fs = data_superbowl(head=head, datatype=datatype, year=year, view=view)\n",
    "T, D, N = X_prepro.shape"
   ]
  },
  {
   "cell_type": "code",
   "execution_count": 6,
   "metadata": {},
   "outputs": [
    {
     "data": {
      "text/plain": [
       "array([0.32115255, 0.33731027, 0.33958145, 0.342975  , 0.35470448])"
      ]
     },
     "execution_count": 6,
     "metadata": {},
     "output_type": "execute_result"
    }
   ],
   "source": [
    "n_components = 5\n",
    "lam, W = GCCA(X_prepro, n_components=n_components, regularization='lwcov')\n",
    "lam"
   ]
  },
  {
   "cell_type": "code",
   "execution_count": 4,
   "metadata": {},
   "outputs": [
    {
     "data": {
      "text/plain": [
       "array([0.12434029, 0.11556644, 0.1144001 , 0.11268614, 0.1070146 ])"
      ]
     },
     "execution_count": 4,
     "metadata": {},
     "output_type": "execute_result"
    }
   ],
   "source": [
    "(1/lam-1)/(N-1)"
   ]
  },
  {
   "cell_type": "code",
   "execution_count": 5,
   "metadata": {},
   "outputs": [
    {
     "data": {
      "text/plain": [
       "array([0.12449273, 0.11564272, 0.11281938, 0.11250282, 0.10683119])"
      ]
     },
     "execution_count": 5,
     "metadata": {},
     "output_type": "execute_result"
    }
   ],
   "source": [
    "avg_corr_coe(X_prepro, W, N, n_components=5)"
   ]
  },
  {
   "cell_type": "markdown",
   "metadata": {},
   "source": [
    "### Permutation Test"
   ]
  },
  {
   "cell_type": "code",
   "execution_count": 9,
   "metadata": {},
   "outputs": [
    {
     "name": "stderr",
     "output_type": "stream",
     "text": [
      "100%|██████████| 100/100 [05:26<00:00,  3.26s/it]\n"
     ]
    }
   ],
   "source": [
    "num_test = 100\n",
    "n_components = 5\n",
    "lam_topK = np.empty((0, n_components))\n",
    "for i in tqdm(range(num_test)):\n",
    "    X_shuffled = shuffle_block(X_prepro, t=1, fs=fs)\n",
    "    lam_permu, _ = GCCA(X_shuffled, n_components=n_components, regularization='lwcov')\n",
    "    lam_topK = np.concatenate((lam_topK, np.expand_dims(lam_permu[:n_components], axis=0)), axis=0)\n"
   ]
  },
  {
   "cell_type": "code",
   "execution_count": 21,
   "metadata": {},
   "outputs": [
    {
     "name": "stdout",
     "output_type": "stream",
     "text": [
      "Component 5, top 0.0%\n"
     ]
    },
    {
     "data": {
      "text/plain": [
       "[<matplotlib.lines.Line2D at 0x21c001793f0>]"
      ]
     },
     "execution_count": 21,
     "metadata": {},
     "output_type": "execute_result"
    },
    {
     "data": {
      "image/png": "[encoded data removed]",
      "text/plain": [
       "<Figure size 640x480 with 1 Axes>"
      ]
     },
     "metadata": {},
     "output_type": "display_data"
    }
   ],
   "source": [
    "compo = 5\n",
    "signifi = sum(lam_topK[:,compo-1]<lam[compo-1])/num_test*100\n",
    "print(\"Component {compo}, top {signifi}%\".format(compo=compo, signifi=signifi))\n",
    "plt.hist(lam_topK[:,compo-1])\n",
    "# plt.title('Permutation test: Example-'+'Component #'+str(compo))\n",
    "plt.title('Permutation test: Superbowl-'+datatype+'-'+year+'-'+view+'-'+'Component #'+str(compo))\n",
    "plt.xlabel('lambda')\n",
    "plt.plot(lam[compo-1], 0, marker=\"o\", markersize=10)"
   ]
  },
  {
   "cell_type": "markdown",
   "metadata": {},
   "source": [
    "### Cross-validation"
   ]
  },
  {
   "cell_type": "code",
   "execution_count": 11,
   "metadata": {},
   "outputs": [],
   "source": [
    "fold = 10\n",
    "lam_train = np.zeros((fold, n_components))\n",
    "lam_test = np.zeros_like(lam_train)\n",
    "T, D, N = X_prepro.shape\n",
    "for i in range(fold):\n",
    "    len_test = T // fold\n",
    "    X_test = X_prepro[len_test*i:len_test*(i+1),:,:]\n",
    "    X_train = np.delete(X_prepro, range(len_test*i, len_test*(i+1)), axis=0)\n",
    "    lam_train[i,:], W_train = GCCA(X_train, n_components=n_components, regularization='lwcov')\n",
    "    X_test_list = [X_test[:,:,n] for n in range(N)]\n",
    "    X_test_flatten = np.concatenate(tuple(X_test_list), axis=1)\n",
    "    Rxx = LedoitWolf().fit(X_test_flatten).covariance_\n",
    "    Dxx = np.zeros_like(Rxx)\n",
    "    for n in range(N):\n",
    "        Dxx[n*D:(n+1)*D,n*D:(n+1)*D] = Rxx[n*D:(n+1)*D,n*D:(n+1)*D]\n",
    "    lam_test[i,:] = np.diag(np.transpose(W_train)@Dxx@W_train)\n"
   ]
  },
  {
   "cell_type": "code",
   "execution_count": 12,
   "metadata": {},
   "outputs": [
    {
     "data": {
      "text/plain": [
       "array([0.32933525, 0.46297041, 0.48598479, 0.49118173, 0.49606168])"
      ]
     },
     "execution_count": 12,
     "metadata": {},
     "output_type": "execute_result"
    }
   ],
   "source": [
    "np.mean(lam_train, axis=0)"
   ]
  },
  {
   "cell_type": "code",
   "execution_count": 13,
   "metadata": {},
   "outputs": [
    {
     "data": {
      "text/plain": [
       "array([0.38992864, 0.6473231 , 0.88495208, 0.99712886, 0.75150273])"
      ]
     },
     "execution_count": 13,
     "metadata": {},
     "output_type": "execute_result"
    }
   ],
   "source": [
    "np.mean(lam_test, axis=0)"
   ]
  },
  {
   "cell_type": "markdown",
   "metadata": {},
   "source": [
    "### GCCA vs Correlated Component Analysis"
   ]
  },
  {
   "cell_type": "code",
   "execution_count": 16,
   "metadata": {},
   "outputs": [],
   "source": [
    "ISC, W = corr_component(X_prepro, n_components=n_components)"
   ]
  },
  {
   "cell_type": "code",
   "execution_count": 17,
   "metadata": {},
   "outputs": [
    {
     "data": {
      "text/plain": [
       "array([0.04982424, 0.02942801, 0.02437868, 0.0175997 , 0.01655189])"
      ]
     },
     "execution_count": 17,
     "metadata": {},
     "output_type": "execute_result"
    }
   ],
   "source": [
    "ISC"
   ]
  },
  {
   "cell_type": "code",
   "execution_count": 18,
   "metadata": {},
   "outputs": [
    {
     "data": {
      "text/plain": [
       "array([0.0510326 , 0.0297898 , 0.02521335, 0.01767541, 0.01677557])"
      ]
     },
     "execution_count": 18,
     "metadata": {},
     "output_type": "execute_result"
    }
   ],
   "source": [
    "avg_corr_coe(X_prepro, W, N, n_components=5)"
   ]
  },
  {
   "cell_type": "code",
   "execution_count": 15,
   "metadata": {},
   "outputs": [
    {
     "data": {
      "text/plain": [
       "array([0.4421198 , 0.69659408, 0.76418215, 0.80520732, 0.81815575])"
      ]
     },
     "execution_count": 15,
     "metadata": {},
     "output_type": "execute_result"
    }
   ],
   "source": [
    "1/(1+(N-1)*ISC)"
   ]
  },
  {
   "cell_type": "code",
   "execution_count": 16,
   "metadata": {},
   "outputs": [
    {
     "data": {
      "text/plain": [
       "array([0.33267204, 0.47261288, 0.50342761, 0.50565714, 0.51095894])"
      ]
     },
     "execution_count": 16,
     "metadata": {},
     "output_type": "execute_result"
    }
   ],
   "source": [
    "lam"
   ]
  },
  {
   "cell_type": "code",
   "execution_count": null,
   "metadata": {},
   "outputs": [],
   "source": []
  }
 ],
 "metadata": {
  "kernelspec": {
   "display_name": "Python 3.10.6 ('signal')",
   "language": "python",
   "name": "python3"
  },
  "language_info": {
   "codemirror_mode": {
    "name": "ipython",
    "version": 3
   },
   "file_extension": ".py",
   "mimetype": "text/x-python",
   "name": "python",
   "nbconvert_exporter": "python",
   "pygments_lexer": "ipython3",
   "version": "3.10.6"
  },
  "orig_nbformat": 4,
  "vscode": {
   "interpreter": {
    "hash": "e4780ce94013b4ad826834d504b051d615119766f3ac7f8bac99efc1ee879921"
   }
  }
 },
 "nbformat": 4,
 "nbformat_minor": 2
}
