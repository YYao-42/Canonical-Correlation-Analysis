{
 "cells": [
  {
   "cell_type": "code",
   "execution_count": 65,
   "metadata": {},
   "outputs": [],
   "source": [
    "import scipy.io\n",
    "import numpy as np\n",
    "import matplotlib.pyplot as plt\n",
    "import os\n",
    "from utils import GCCA, shuffle_block, data_superbowl, corr_component, avg_corr_coe\n",
    "from sklearn.covariance import LedoitWolf\n",
    "from numpy import linalg as LA\n",
    "from scipy import signal\n",
    "from tqdm import tqdm"
   ]
  },
  {
   "cell_type": "code",
   "execution_count": 66,
   "metadata": {},
   "outputs": [],
   "source": [
    "# data = scipy.io.loadmat('../Correlated Component Analysis/data/Prepro_EEG.mat')\n",
    "# X_prepro = data['X']\n",
    "# fs = 256\n",
    "# T, D, N = X_prepro.shape"
   ]
  },
  {
   "cell_type": "code",
   "execution_count": 67,
   "metadata": {},
   "outputs": [],
   "source": [
    "head = '../Correlated Component Analysis/data'\n",
    "datatype = 'preprocessed'\n",
    "year = '2013'\n",
    "view = 'Y2'\n",
    "X_prepro, fs = data_superbowl(head=head, datatype=datatype, year=year, view=view)\n",
    "T, D, N = X_prepro.shape"
   ]
  },
  {
   "cell_type": "code",
   "execution_count": 68,
   "metadata": {},
   "outputs": [
    {
     "data": {
      "text/plain": [
       "array([0.18005508, 0.0991119 , 0.08692264, 0.08293346, 0.08498307,\n",
       "       0.08271434, 0.08249398, 0.0816447 , 0.07850436, 0.07850623,\n",
       "       0.07764838, 0.07497025, 0.07421793, 0.07253902, 0.07251337,\n",
       "       0.07299535, 0.0718717 , 0.07048556, 0.07049304, 0.06979781,\n",
       "       0.0690646 , 0.06796717, 0.06791562, 0.06603929, 0.06617355,\n",
       "       0.06492945, 0.0655243 , 0.06434227, 0.06385139, 0.06336423,\n",
       "       0.06197271, 0.06269373, 0.06225381, 0.0608914 , 0.060152  ,\n",
       "       0.06020744, 0.05985386, 0.05932749, 0.05924087, 0.05855758,\n",
       "       0.05754694, 0.05785935, 0.05632178, 0.05628798, 0.05638415,\n",
       "       0.05502164, 0.05509279, 0.05511369, 0.05502377, 0.05400012,\n",
       "       0.054019  , 0.0536099 , 0.05217731, 0.05258046, 0.05125271,\n",
       "       0.05142826, 0.05083795, 0.05109541, 0.05075113, 0.05007191,\n",
       "       0.04915437, 0.04882485, 0.04877187, 0.04852315, 0.04766367,\n",
       "       0.04799059, 0.04779871, 0.04709076, 0.04660186, 0.04642969,\n",
       "       0.04638822, 0.04568219, 0.0458094 , 0.04510398, 0.04533021,\n",
       "       0.04433143, 0.0443669 , 0.04383439, 0.04331651, 0.0433739 ,\n",
       "       0.04288034, 0.04253794, 0.04250964, 0.04212043, 0.04130669,\n",
       "       0.04109836, 0.04109234, 0.04040619, 0.04029603, 0.03997561,\n",
       "       0.03950625, 0.03908582, 0.03960108, 0.03900826, 0.03874556,\n",
       "       0.03788307, 0.03792227, 0.03728741, 0.03718755, 0.03706453])"
      ]
     },
     "execution_count": 68,
     "metadata": {},
     "output_type": "execute_result"
    }
   ],
   "source": [
    "n_components = 100\n",
    "lam, W_stack, avg_corr = GCCA(X_prepro, n_components=n_components, regularization='lwcov')\n",
    "avg_corr"
   ]
  },
  {
   "cell_type": "code",
   "execution_count": 69,
   "metadata": {},
   "outputs": [
    {
     "data": {
      "text/plain": [
       "array([0.18064173, 0.09982907, 0.08778709, 0.08382344, 0.08573119,\n",
       "       0.08343065, 0.08329149, 0.08241773, 0.07924975, 0.07931434,\n",
       "       0.07843813, 0.07567953, 0.07498076, 0.07331521, 0.07333284,\n",
       "       0.07376023, 0.07266424, 0.07126384, 0.07128252, 0.0706323 ,\n",
       "       0.06983774, 0.06867401, 0.06862453, 0.06663173, 0.06699177,\n",
       "       0.06561624, 0.06615254, 0.06498249, 0.06457283, 0.06403169,\n",
       "       0.06267496, 0.06339668, 0.06291907, 0.06160056, 0.06079176,\n",
       "       0.06082487, 0.06049826, 0.06001476, 0.05990987, 0.05925334,\n",
       "       0.05821963, 0.05854204, 0.05695906, 0.05689197, 0.05697711,\n",
       "       0.05562792, 0.05568028, 0.05568141, 0.05564446, 0.05459139,\n",
       "       0.05458678, 0.05418752, 0.05275846, 0.05322699, 0.05182177,\n",
       "       0.05204979, 0.05145284, 0.0516734 , 0.05137191, 0.05062658,\n",
       "       0.04973821, 0.04935777, 0.04937288, 0.04908707, 0.04828398,\n",
       "       0.04855497, 0.04828947, 0.04761988, 0.04714374, 0.04698639,\n",
       "       0.04690857, 0.04617143, 0.04627111, 0.04564215, 0.04580285,\n",
       "       0.0448502 , 0.04488016, 0.04434704, 0.04385484, 0.04382871,\n",
       "       0.04333706, 0.04298495, 0.04300843, 0.04257385, 0.04179341,\n",
       "       0.04161226, 0.04166167, 0.04084367, 0.04078267, 0.04039081,\n",
       "       0.03996315, 0.03951355, 0.0400647 , 0.03947814, 0.03916824,\n",
       "       0.03835842, 0.03835416, 0.03774084, 0.03764036, 0.03749264])"
      ]
     },
     "execution_count": 69,
     "metadata": {},
     "output_type": "execute_result"
    }
   ],
   "source": [
    "avg_corr_coe(X_prepro, W_stack, N, n_components=n_components)"
   ]
  },
  {
   "cell_type": "code",
   "execution_count": 70,
   "metadata": {},
   "outputs": [
    {
     "data": {
      "text/plain": [
       "array([0.18236032, 0.10144515, 0.08967117, 0.08887496, 0.08700949,\n",
       "       0.08487248, 0.08419637, 0.08319207, 0.08042315, 0.07973125,\n",
       "       0.07885866, 0.07708085, 0.07598439, 0.07505532, 0.0746798 ,\n",
       "       0.07444365, 0.07354037, 0.07290871, 0.07181507, 0.07094741,\n",
       "       0.07060448, 0.0695647 , 0.06903632, 0.06880191, 0.06767806,\n",
       "       0.06676661, 0.06641381, 0.06591469, 0.06544451, 0.06434192,\n",
       "       0.06377804, 0.06351424, 0.06319411, 0.06199038, 0.06186694,\n",
       "       0.06160735, 0.06127702, 0.06056091, 0.06003697, 0.05963927,\n",
       "       0.05913023, 0.05903283, 0.05804221, 0.05774855, 0.05727804,\n",
       "       0.05653588, 0.05611413, 0.05582152, 0.05542439, 0.05515754,\n",
       "       0.05482781, 0.0546188 , 0.05340483, 0.05313662, 0.05254492,\n",
       "       0.05220728, 0.05196731, 0.05180366, 0.05123209, 0.05116682,\n",
       "       0.05023084, 0.04965943, 0.04943792, 0.04935515, 0.04893035,\n",
       "       0.04862408, 0.0481811 , 0.04767172, 0.04736318, 0.04706782,\n",
       "       0.04676833, 0.04636913, 0.04629925, 0.04595701, 0.04575787,\n",
       "       0.04513999, 0.04479127, 0.04470671, 0.04397789, 0.04375034,\n",
       "       0.04348608, 0.04312685, 0.04284095, 0.04243145, 0.04197952,\n",
       "       0.04166645, 0.04156415, 0.04136976, 0.04079164, 0.04049384,\n",
       "       0.04031994, 0.0398381 , 0.03975882, 0.03950687, 0.03895817,\n",
       "       0.03846326, 0.03819694, 0.03810913, 0.03767135, 0.03739676])"
      ]
     },
     "execution_count": 70,
     "metadata": {},
     "output_type": "execute_result"
    }
   ],
   "source": [
    "(1/lam-1)/(N-1)"
   ]
  },
  {
   "cell_type": "markdown",
   "metadata": {},
   "source": [
    "Difference between avg_corr and the one computed by function `avg_corr_coe` is due to the regularization when computing covariance matrices.\n",
    "\n",
    "(1/lam-1)/(N-1) is an approximation of real average pairwise correlation. It assumes that $\\mathbf w_n^H \\mathbf R_{\\mathbf x_n \\mathbf x_n} \\mathbf w_n$ is equal for all $n$ (different subject), which is not true. In all cases we have here, this approximation is actually good enough."
   ]
  },
  {
   "cell_type": "code",
   "execution_count": 71,
   "metadata": {},
   "outputs": [
    {
     "data": {
      "text/plain": [
       "0.03969196883482774"
      ]
     },
     "execution_count": 71,
     "metadata": {},
     "output_type": "execute_result"
    }
   ],
   "source": [
    "# Reference value\n",
    "X_single_channel = X_prepro[:,10,:]\n",
    "corr_mtx = np.corrcoef(X_single_channel, rowvar=False)\n",
    "np.sum(corr_mtx-np.eye(N))/N/(N-1)"
   ]
  },
  {
   "cell_type": "markdown",
   "metadata": {},
   "source": [
    "### Permutation Test"
   ]
  },
  {
   "cell_type": "code",
   "execution_count": 40,
   "metadata": {},
   "outputs": [
    {
     "name": "stderr",
     "output_type": "stream",
     "text": [
      "100%|██████████| 100/100 [05:29<00:00,  3.29s/it]\n"
     ]
    }
   ],
   "source": [
    "num_test = 100\n",
    "corr_topK = np.empty((0, n_components))\n",
    "for i in tqdm(range(num_test)):\n",
    "    X_shuffled = shuffle_block(X_prepro, t=3, fs=fs)\n",
    "    _, _, corr_permu = GCCA(X_shuffled, n_components=n_components, regularization='lwcov')\n",
    "    # _, _, corr_permu = GCCA(X_shuffled, n_components=n_components, regularization='lwcov', W_train=W_stack)\n",
    "    corr_topK = np.concatenate((corr_topK, np.expand_dims(corr_permu, axis=0)), axis=0)"
   ]
  },
  {
   "cell_type": "code",
   "execution_count": 41,
   "metadata": {},
   "outputs": [
    {
     "name": "stdout",
     "output_type": "stream",
     "text": [
      "Component 1, top 0.0%\n"
     ]
    },
    {
     "data": {
      "text/plain": [
       "[<matplotlib.lines.Line2D at 0x2087081b070>]"
      ]
     },
     "execution_count": 41,
     "metadata": {},
     "output_type": "execute_result"
    },
    {
     "data": {
      "image/png": "[encoded data removed]",
      "text/plain": [
       "<Figure size 640x480 with 1 Axes>"
      ]
     },
     "metadata": {},
     "output_type": "display_data"
    }
   ],
   "source": [
    "compo = 1\n",
    "signifi = sum(corr_topK[:,0]>avg_corr[compo-1])/num_test*100\n",
    "print(\"Component {compo}, top {signifi}%\".format(compo=compo, signifi=signifi))\n",
    "plt.hist(corr_topK[:,0])\n",
    "# plt.title('Permutation test: Example-'+'Component #'+str(compo))\n",
    "plt.title('Permutation test: Superbowl-'+datatype+'-'+year+'-'+view+'-'+'Component #'+str(compo))\n",
    "plt.xlabel('corr')\n",
    "plt.plot(avg_corr[compo-1], 0, marker=\"o\", markersize=10)"
   ]
  },
  {
   "cell_type": "markdown",
   "metadata": {},
   "source": [
    "### Cross-validation"
   ]
  },
  {
   "cell_type": "code",
   "execution_count": 10,
   "metadata": {},
   "outputs": [],
   "source": [
    "fold = 10\n",
    "cv_n_components = 5\n",
    "corr_train = np.zeros((fold, cv_n_components))\n",
    "corr_test = np.zeros_like(corr_train)\n",
    "T, D, N = X_prepro.shape\n",
    "for i in range(fold):\n",
    "    len_test = T // fold\n",
    "    X_test = X_prepro[len_test*i:len_test*(i+1),:,:]\n",
    "    X_train = np.delete(X_prepro, range(len_test*i, len_test*(i+1)), axis=0)\n",
    "    _, W_train, corr_train[i,:] = GCCA(X_train, n_components=n_components, regularization='lwcov')\n",
    "    # corr_train[i,:] = avg_corr_coe(X_train, W_train, N, n_components=cv_n_components)\n",
    "    _, _, corr_test[i,:] = GCCA(X_test, n_components=n_components, regularization='lwcov', W_train=W_train)"
   ]
  },
  {
   "cell_type": "code",
   "execution_count": 11,
   "metadata": {},
   "outputs": [
    {
     "data": {
      "text/plain": [
       "array([0.1828905 , 0.1031513 , 0.09170862, 0.09049872, 0.08981684])"
      ]
     },
     "execution_count": 11,
     "metadata": {},
     "output_type": "execute_result"
    }
   ],
   "source": [
    "np.mean(corr_train, axis=0)"
   ]
  },
  {
   "cell_type": "code",
   "execution_count": 12,
   "metadata": {},
   "outputs": [
    {
     "data": {
      "text/plain": [
       "array([ 0.11516844,  0.02993057, -0.00094616,  0.00425634,  0.00174643])"
      ]
     },
     "execution_count": 12,
     "metadata": {},
     "output_type": "execute_result"
    }
   ],
   "source": [
    "np.mean(corr_test, axis=0)"
   ]
  },
  {
   "cell_type": "markdown",
   "metadata": {},
   "source": [
    "### GCCA vs Correlated Component Analysis"
   ]
  },
  {
   "cell_type": "code",
   "execution_count": 13,
   "metadata": {},
   "outputs": [],
   "source": [
    "fold = 10\n",
    "cv_n_components = 5\n",
    "ISC_train = np.zeros((fold, cv_n_components))\n",
    "ISC_test = np.zeros_like(ISC_train)\n",
    "T, D, N = X_prepro.shape\n",
    "for i in range(fold):\n",
    "    len_test = T // fold\n",
    "    X_test = X_prepro[len_test*i:len_test*(i+1),:,:]\n",
    "    X_train = np.delete(X_prepro, range(len_test*i, len_test*(i+1)), axis=0)\n",
    "    ISC_train[i,:], W_train = corr_component(X_train, n_components=n_components)\n",
    "    ISC_test[i,:], _ = corr_component(X_test, n_components=n_components, W_train=W_train)"
   ]
  },
  {
   "cell_type": "code",
   "execution_count": 14,
   "metadata": {},
   "outputs": [
    {
     "data": {
      "text/plain": [
       "array([0.11514458, 0.04036184, 0.02881643, 0.02289647, 0.02139846])"
      ]
     },
     "execution_count": 14,
     "metadata": {},
     "output_type": "execute_result"
    }
   ],
   "source": [
    "np.mean(ISC_train, axis=0)"
   ]
  },
  {
   "cell_type": "code",
   "execution_count": 15,
   "metadata": {},
   "outputs": [
    {
     "data": {
      "text/plain": [
       "array([ 0.10402141,  0.02557607,  0.01402412,  0.00371617, -0.00083705])"
      ]
     },
     "execution_count": 15,
     "metadata": {},
     "output_type": "execute_result"
    }
   ],
   "source": [
    "np.mean(ISC_test, axis=0)"
   ]
  },
  {
   "cell_type": "code",
   "execution_count": null,
   "metadata": {},
   "outputs": [],
   "source": []
  }
 ],
 "metadata": {
  "kernelspec": {
   "display_name": "Python 3.10.6 ('signal')",
   "language": "python",
   "name": "python3"
  },
  "language_info": {
   "codemirror_mode": {
    "name": "ipython",
    "version": 3
   },
   "file_extension": ".py",
   "mimetype": "text/x-python",
   "name": "python",
   "nbconvert_exporter": "python",
   "pygments_lexer": "ipython3",
   "version": "3.10.6"
  },
  "orig_nbformat": 4,
  "vscode": {
   "interpreter": {
    "hash": "e4780ce94013b4ad826834d504b051d615119766f3ac7f8bac99efc1ee879921"
   }
  }
 },
 "nbformat": 4,
 "nbformat_minor": 2
}
