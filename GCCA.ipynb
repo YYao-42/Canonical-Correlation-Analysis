{
 "cells": [
  {
   "cell_type": "code",
   "execution_count": 21,
   "metadata": {},
   "outputs": [],
   "source": [
    "import scipy.io\n",
    "import numpy as np\n",
    "import matplotlib.pyplot as plt\n",
    "import os\n",
    "from utils import GCCA, shuffle_block, data_superbowl, corr_component, avg_corr_coe\n",
    "from sklearn.covariance import LedoitWolf\n",
    "from numpy import linalg as LA\n",
    "from scipy import signal\n",
    "from tqdm import tqdm"
   ]
  },
  {
   "cell_type": "code",
   "execution_count": 22,
   "metadata": {},
   "outputs": [],
   "source": [
    "# data = scipy.io.loadmat('../Correlated Component Analysis/data/Prepro_EEG.mat')\n",
    "# X_prepro = data['X']\n",
    "# fs = 256\n",
    "# T, D, N = X_prepro.shape"
   ]
  },
  {
   "cell_type": "code",
   "execution_count": 23,
   "metadata": {},
   "outputs": [],
   "source": [
    "head = '../Correlated Component Analysis/data'\n",
    "datatype = 'preprocessed'\n",
    "year = '2013'\n",
    "view = 'Y2'\n",
    "X_prepro, fs = data_superbowl(head=head, datatype=datatype, year=year, view=view)\n",
    "T, D, N = X_prepro.shape"
   ]
  },
  {
   "cell_type": "code",
   "execution_count": 24,
   "metadata": {},
   "outputs": [],
   "source": [
    "n_components = 500\n",
    "lam, W = GCCA(X_prepro, n_components=n_components, regularization='lwcov')"
   ]
  },
  {
   "cell_type": "code",
   "execution_count": 25,
   "metadata": {},
   "outputs": [],
   "source": [
    "corr_coe = (1/lam-1)/(N-1)"
   ]
  },
  {
   "cell_type": "code",
   "execution_count": 26,
   "metadata": {},
   "outputs": [],
   "source": [
    "# corr_coe = avg_corr_coe(X_prepro, W, N, n_components=n_components)\n",
    "# corr_coe"
   ]
  },
  {
   "cell_type": "markdown",
   "metadata": {},
   "source": [
    "### Permutation Test"
   ]
  },
  {
   "cell_type": "code",
   "execution_count": 27,
   "metadata": {},
   "outputs": [
    {
     "name": "stderr",
     "output_type": "stream",
     "text": [
      "100%|██████████| 1000/1000 [52:24<00:00,  3.14s/it]\n"
     ]
    }
   ],
   "source": [
    "num_test = 1000\n",
    "lam_topK = np.empty((0, n_components))\n",
    "corr_topK = np.empty((0, n_components))\n",
    "for i in tqdm(range(num_test)):\n",
    "    X_shuffled = shuffle_block(X_prepro, t=3, fs=fs)\n",
    "    lam_permu, W_permu = GCCA(X_shuffled, n_components=n_components, regularization='lwcov')\n",
    "    # corr_permu = avg_corr_coe(X_shuffled, W_permu, N, n_components=n_components)\n",
    "    corr_permu = (1/lam_permu-1)/(N-1)\n",
    "    lam_topK = np.concatenate((lam_topK, np.expand_dims(lam_permu, axis=0)), axis=0)\n",
    "    corr_topK = np.concatenate((corr_topK, np.expand_dims(corr_permu, axis=0)), axis=0)"
   ]
  },
  {
   "cell_type": "code",
   "execution_count": 38,
   "metadata": {},
   "outputs": [
    {
     "name": "stdout",
     "output_type": "stream",
     "text": [
      "Component 117, top 0.5%\n"
     ]
    },
    {
     "data": {
      "text/plain": [
       "[<matplotlib.lines.Line2D at 0x1695ab2ae00>]"
      ]
     },
     "execution_count": 38,
     "metadata": {},
     "output_type": "execute_result"
    },
    {
     "data": {
      "image/png": "[encoded data removed]",
      "text/plain": [
       "<Figure size 640x480 with 1 Axes>"
      ]
     },
     "metadata": {},
     "output_type": "display_data"
    }
   ],
   "source": [
    "compo = 117\n",
    "signifi = sum(corr_topK[:,compo-1]>corr_coe[compo-1])/num_test*100\n",
    "print(\"Component {compo}, top {signifi}%\".format(compo=compo, signifi=signifi))\n",
    "plt.hist(corr_topK[:,compo-1])\n",
    "# plt.title('Permutation test: Example-'+'Component #'+str(compo))\n",
    "plt.title('Permutation test: Superbowl-'+datatype+'-'+year+'-'+view+'-'+'Component #'+str(compo))\n",
    "plt.xlabel('corr')\n",
    "plt.plot(corr_coe[compo-1], 0, marker=\"o\", markersize=10)"
   ]
  },
  {
   "cell_type": "markdown",
   "metadata": {},
   "source": [
    "### Cross-validation"
   ]
  },
  {
   "cell_type": "code",
   "execution_count": 12,
   "metadata": {},
   "outputs": [],
   "source": [
    "fold = 10\n",
    "cv_n_components = 5\n",
    "corr_train = np.zeros((fold, cv_n_components))\n",
    "corr_test = np.zeros_like(corr_train)\n",
    "T, D, N = X_prepro.shape\n",
    "for i in range(fold):\n",
    "    len_test = T // fold\n",
    "    X_test = X_prepro[len_test*i:len_test*(i+1),:,:]\n",
    "    X_train = np.delete(X_prepro, range(len_test*i, len_test*(i+1)), axis=0)\n",
    "    _, W_train = GCCA(X_train, n_components=n_components, regularization='lwcov')\n",
    "    corr_train[i,:] = avg_corr_coe(X_train, W_train, N, n_components=cv_n_components)\n",
    "    corr_test[i,:] = avg_corr_coe(X_test, W_train, N, n_components=cv_n_components)"
   ]
  },
  {
   "cell_type": "code",
   "execution_count": 13,
   "metadata": {},
   "outputs": [
    {
     "data": {
      "text/plain": [
       "array([[0.18695489, 0.10346385, 0.09422231, 0.08864449, 0.09141321],\n",
       "       [0.1851154 , 0.10362256, 0.09067646, 0.09287107, 0.09179427],\n",
       "       [0.18410406, 0.10447832, 0.09050854, 0.09037347, 0.0905371 ],\n",
       "       [0.18077828, 0.10381551, 0.09348267, 0.08891155, 0.09006738],\n",
       "       [0.18450125, 0.10529833, 0.09307745, 0.09335208, 0.08854061],\n",
       "       [0.19210734, 0.1063723 , 0.09384483, 0.09537296, 0.09069704],\n",
       "       [0.18259315, 0.10118016, 0.09390773, 0.08989479, 0.09089701],\n",
       "       [0.17944332, 0.10455837, 0.09370343, 0.09162434, 0.09251473],\n",
       "       [0.18315697, 0.1034634 , 0.09317377, 0.09076334, 0.08997045],\n",
       "       [0.17669433, 0.1035339 , 0.09054995, 0.09298246, 0.09066753]])"
      ]
     },
     "execution_count": 13,
     "metadata": {},
     "output_type": "execute_result"
    }
   ],
   "source": [
    "corr_train"
   ]
  },
  {
   "cell_type": "code",
   "execution_count": 14,
   "metadata": {},
   "outputs": [
    {
     "data": {
      "text/plain": [
       "array([[ 0.06657801,  0.02475763, -0.00545771, -0.00869653, -0.00163309],\n",
       "       [ 0.11698515,  0.03618207, -0.00854722,  0.00124039,  0.00112029],\n",
       "       [ 0.11440477,  0.02714504, -0.00156294,  0.01778563,  0.0019629 ],\n",
       "       [ 0.12333297,  0.02958446, -0.00309646, -0.00173378,  0.00393862],\n",
       "       [ 0.11625583,  0.03339597,  0.00640627,  0.01806306,  0.009238  ],\n",
       "       [ 0.04735798,  0.01947088, -0.00486847, -0.00415218,  0.00576268],\n",
       "       [ 0.13568456,  0.04858228,  0.00526712,  0.00216246, -0.00343683],\n",
       "       [ 0.15983284,  0.02232777, -0.00192774,  0.00160669, -0.00389223],\n",
       "       [ 0.12707559,  0.03912399,  0.00652858,  0.00602037, -0.0043251 ],\n",
       "       [ 0.16100651,  0.03001   , -0.00390323,  0.01458816,  0.00988173]])"
      ]
     },
     "execution_count": 14,
     "metadata": {},
     "output_type": "execute_result"
    }
   ],
   "source": [
    "corr_test"
   ]
  },
  {
   "cell_type": "code",
   "execution_count": 15,
   "metadata": {},
   "outputs": [
    {
     "data": {
      "text/plain": [
       "array([0.1835449 , 0.10397867, 0.09271471, 0.09147905, 0.09070993])"
      ]
     },
     "execution_count": 15,
     "metadata": {},
     "output_type": "execute_result"
    }
   ],
   "source": [
    "np.mean(corr_train, axis=0)"
   ]
  },
  {
   "cell_type": "code",
   "execution_count": 16,
   "metadata": {},
   "outputs": [
    {
     "data": {
      "text/plain": [
       "array([ 0.11685142,  0.03105801, -0.00111618,  0.00468843,  0.0018617 ])"
      ]
     },
     "execution_count": 16,
     "metadata": {},
     "output_type": "execute_result"
    }
   ],
   "source": [
    "np.mean(corr_test, axis=0)"
   ]
  },
  {
   "cell_type": "markdown",
   "metadata": {},
   "source": [
    "### GCCA vs Correlated Component Analysis"
   ]
  },
  {
   "cell_type": "code",
   "execution_count": 17,
   "metadata": {},
   "outputs": [],
   "source": [
    "ISC, W = corr_component(X_prepro, n_components=n_components)"
   ]
  },
  {
   "cell_type": "code",
   "execution_count": 18,
   "metadata": {},
   "outputs": [
    {
     "data": {
      "text/plain": [
       "array([ 1.14711853e-01,  3.95960253e-02,  2.80535031e-02,  2.19923801e-02,\n",
       "        2.02055599e-02,  1.80586546e-02,  1.75645867e-02,  1.60299057e-02,\n",
       "        1.51666048e-02,  1.43252407e-02,  1.32350412e-02,  1.30911141e-02,\n",
       "        1.22575251e-02,  1.10148251e-02,  1.04279885e-02,  1.01627384e-02,\n",
       "        9.49318003e-03,  8.88227939e-03,  8.52404804e-03,  7.37559348e-03,\n",
       "        6.90789727e-03,  6.52268378e-03,  6.05219538e-03,  5.66241568e-03,\n",
       "        4.67972568e-03,  4.38660970e-03,  3.80737061e-03,  3.21632010e-03,\n",
       "        2.89533766e-03,  1.80276828e-03,  1.48039103e-03,  9.43572356e-04,\n",
       "        6.39312541e-04, -1.89350238e-05, -1.58365962e-04, -3.36794594e-04,\n",
       "       -1.92423148e-03, -2.52562108e-03, -2.80158384e-03, -3.41001646e-03,\n",
       "       -3.59937924e-03, -4.23220042e-03, -4.53520523e-03, -5.54685576e-03,\n",
       "       -5.85654366e-03, -6.09101887e-03, -6.47485085e-03, -7.66839153e-03,\n",
       "       -8.35312656e-03, -8.77477800e-03, -9.27489110e-03, -9.85970742e-03,\n",
       "       -1.11195843e-02, -1.16493572e-02, -1.17430567e-02, -1.25502340e-02,\n",
       "       -1.32238811e-02, -1.35090087e-02, -1.43256634e-02, -1.46197694e-02,\n",
       "       -1.54027233e-02, -1.69719867e-02, -1.76700041e-02, -1.87364776e-02])"
      ]
     },
     "execution_count": 18,
     "metadata": {},
     "output_type": "execute_result"
    }
   ],
   "source": [
    "ISC"
   ]
  },
  {
   "cell_type": "code",
   "execution_count": 19,
   "metadata": {},
   "outputs": [],
   "source": [
    "# avg_corr_coe(X_prepro, W, N, n_components=n_components)"
   ]
  },
  {
   "cell_type": "code",
   "execution_count": null,
   "metadata": {},
   "outputs": [],
   "source": []
  }
 ],
 "metadata": {
  "kernelspec": {
   "display_name": "Python 3.10.6 ('signal')",
   "language": "python",
   "name": "python3"
  },
  "language_info": {
   "codemirror_mode": {
    "name": "ipython",
    "version": 3
   },
   "file_extension": ".py",
   "mimetype": "text/x-python",
   "name": "python",
   "nbconvert_exporter": "python",
   "pygments_lexer": "ipython3",
   "version": "3.10.6"
  },
  "orig_nbformat": 4,
  "vscode": {
   "interpreter": {
    "hash": "e4780ce94013b4ad826834d504b051d615119766f3ac7f8bac99efc1ee879921"
   }
  }
 },
 "nbformat": 4,
 "nbformat_minor": 2
}
